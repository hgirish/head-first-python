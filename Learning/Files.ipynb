{
 "cells": [
  {
   "cell_type": "code",
   "execution_count": 2,
   "metadata": {},
   "outputs": [],
   "source": [
    "import swimclub"
   ]
  },
  {
   "cell_type": "code",
   "execution_count": 3,
   "metadata": {},
   "outputs": [
    {
     "data": {
      "text/plain": [
       "('Darius',\n",
       " '13',\n",
       " '100m',\n",
       " 'Fly',\n",
       " ['1:27.95', '1:21.07', '1:30.96', '1:23.22', '1:27.95', '1:28.30'],\n",
       " '1:26.58')"
      ]
     },
     "execution_count": 3,
     "metadata": {},
     "output_type": "execute_result"
    }
   ],
   "source": [
    "swimclub.read_swim_data(\"Darius-13-100m-Fly.txt\")"
   ]
  },
  {
   "cell_type": "code",
   "execution_count": 4,
   "metadata": {},
   "outputs": [],
   "source": [
    "data  = swimclub.read_swim_data(\"Darius-13-100m-Fly.txt\")"
   ]
  },
  {
   "cell_type": "code",
   "execution_count": 5,
   "metadata": {},
   "outputs": [
    {
     "data": {
      "text/plain": [
       "tuple"
      ]
     },
     "execution_count": 5,
     "metadata": {},
     "output_type": "execute_result"
    }
   ],
   "source": [
    "type(data)"
   ]
  },
  {
   "cell_type": "code",
   "execution_count": 6,
   "metadata": {},
   "outputs": [],
   "source": [
    "times = data[4]"
   ]
  },
  {
   "cell_type": "code",
   "execution_count": 7,
   "metadata": {},
   "outputs": [],
   "source": [
    "swimmer, age, distance, stroke, times2, average = data"
   ]
  },
  {
   "cell_type": "code",
   "execution_count": 8,
   "metadata": {},
   "outputs": [
    {
     "data": {
      "text/plain": [
       "['1:27.95', '1:21.07', '1:30.96', '1:23.22', '1:27.95', '1:28.30']"
      ]
     },
     "execution_count": 8,
     "metadata": {},
     "output_type": "execute_result"
    }
   ],
   "source": [
    "times2"
   ]
  },
  {
   "cell_type": "code",
   "execution_count": 9,
   "metadata": {},
   "outputs": [],
   "source": [
    "import os"
   ]
  },
  {
   "cell_type": "code",
   "execution_count": 10,
   "metadata": {},
   "outputs": [],
   "source": [
    "swim_files = os.listdir(swimclub.FOLDER)"
   ]
  },
  {
   "cell_type": "code",
   "execution_count": 11,
   "metadata": {},
   "outputs": [
    {
     "data": {
      "text/plain": [
       "['.DS_Store',\n",
       " 'Abi-10-100m-Back.txt',\n",
       " 'Abi-10-100m-Breast.txt',\n",
       " 'Abi-10-50m-Back.txt',\n",
       " 'Abi-10-50m-Breast.txt',\n",
       " 'Abi-10-50m-Free.txt',\n",
       " 'Ali-12-100m-Back.txt',\n",
       " 'Ali-12-100m-Free.txt',\n",
       " 'Alison-14-100m-Breast.txt',\n",
       " 'Alison-14-100m-Free.txt',\n",
       " 'Aurora-13-50m-Free.txt',\n",
       " 'Bill-18-100m-Back.txt',\n",
       " 'Bill-18-200m-Back.txt',\n",
       " 'Blake-15-100m-Back.txt',\n",
       " 'Blake-15-100m-Fly.txt',\n",
       " 'Blake-15-100m-Free.txt',\n",
       " 'Calvin-9-50m-Back.txt',\n",
       " 'Calvin-9-50m-Fly.txt',\n",
       " 'Calvin-9-50m-Free.txt',\n",
       " 'Carl-15-100m-Back.txt',\n",
       " 'Chris-17-100m-Back.txt',\n",
       " 'Chris-17-100m-Breast.txt',\n",
       " 'Darius-13-100m-Back.txt',\n",
       " 'Darius-13-100m-Breast.txt',\n",
       " 'Darius-13-100m-Fly.txt',\n",
       " 'Darius-13-200m-IM.txt',\n",
       " 'Dave-17-100m-Free.txt',\n",
       " 'Dave-17-200m-Back.txt',\n",
       " 'Elba-14-100m-Free.txt',\n",
       " 'Emma-13-100m-Breast.txt',\n",
       " 'Emma-13-100m-Free.txt',\n",
       " 'Erika-15-100m-Breast.txt',\n",
       " 'Erika-15-100m-Free.txt',\n",
       " 'Erika-15-200m-Breast.txt',\n",
       " 'Hannah-13-100m-Back.txt',\n",
       " 'Hannah-13-100m-Free.txt',\n",
       " 'Katie-9-100m-Back.txt',\n",
       " 'Katie-9-100m-Breast.txt',\n",
       " 'Katie-9-100m-Free.txt',\n",
       " 'Katie-9-50m-Back.txt',\n",
       " 'Katie-9-50m-Breast.txt',\n",
       " 'Katie-9-50m-Fly.txt',\n",
       " 'Katie-9-50m-Free.txt',\n",
       " 'Lizzie-14-100m-Back.txt',\n",
       " 'Lizzie-14-100m-Free.txt',\n",
       " 'Maria-9-50m-Free.txt',\n",
       " 'Mike-15-100m-Back.txt',\n",
       " 'Mike-15-100m-Fly.txt',\n",
       " 'Mike-15-100m-Free.txt',\n",
       " 'Mike-15-200m-Free.txt',\n",
       " 'Mike-15-200m-IM.txt',\n",
       " 'Owen-15-100m-Free.txt',\n",
       " 'Ruth-13-100m-Back.txt',\n",
       " 'Ruth-13-100m-Free.txt',\n",
       " 'Ruth-13-200m-Back.txt',\n",
       " 'Ruth-13-200m-Free.txt',\n",
       " 'Ruth-13-400m-Free.txt',\n",
       " 'Tasmin-15-100m-Back.txt',\n",
       " 'Tasmin-15-100m-Breast.txt',\n",
       " 'Tasmin-15-100m-Free.txt',\n",
       " 'Tasmin-15-200m-Breast.txt']"
      ]
     },
     "execution_count": 11,
     "metadata": {},
     "output_type": "execute_result"
    }
   ],
   "source": [
    "swim_files"
   ]
  },
  {
   "cell_type": "code",
   "execution_count": 12,
   "metadata": {},
   "outputs": [
    {
     "data": {
      "text/plain": [
       "61"
      ]
     },
     "execution_count": 12,
     "metadata": {},
     "output_type": "execute_result"
    }
   ],
   "source": [
    "len(swim_files)"
   ]
  },
  {
   "cell_type": "code",
   "execution_count": 13,
   "metadata": {},
   "outputs": [
    {
     "name": "stdout",
     "output_type": "stream",
     "text": [
      "['.DS_Store', 'Abi-10-100m-Back.txt', 'Abi-10-100m-Breast.txt', 'Abi-10-50m-Back.txt', 'Abi-10-50m-Breast.txt', 'Abi-10-50m-Free.txt', 'Ali-12-100m-Back.txt', 'Ali-12-100m-Free.txt', 'Alison-14-100m-Breast.txt', 'Alison-14-100m-Free.txt', 'Aurora-13-50m-Free.txt', 'Bill-18-100m-Back.txt', 'Bill-18-200m-Back.txt', 'Blake-15-100m-Back.txt', 'Blake-15-100m-Fly.txt', 'Blake-15-100m-Free.txt', 'Calvin-9-50m-Back.txt', 'Calvin-9-50m-Fly.txt', 'Calvin-9-50m-Free.txt', 'Carl-15-100m-Back.txt', 'Chris-17-100m-Back.txt', 'Chris-17-100m-Breast.txt', 'Darius-13-100m-Back.txt', 'Darius-13-100m-Breast.txt', 'Darius-13-100m-Fly.txt', 'Darius-13-200m-IM.txt', 'Dave-17-100m-Free.txt', 'Dave-17-200m-Back.txt', 'Elba-14-100m-Free.txt', 'Emma-13-100m-Breast.txt', 'Emma-13-100m-Free.txt', 'Erika-15-100m-Breast.txt', 'Erika-15-100m-Free.txt', 'Erika-15-200m-Breast.txt', 'Hannah-13-100m-Back.txt', 'Hannah-13-100m-Free.txt', 'Katie-9-100m-Back.txt', 'Katie-9-100m-Breast.txt', 'Katie-9-100m-Free.txt', 'Katie-9-50m-Back.txt', 'Katie-9-50m-Breast.txt', 'Katie-9-50m-Fly.txt', 'Katie-9-50m-Free.txt', 'Lizzie-14-100m-Back.txt', 'Lizzie-14-100m-Free.txt', 'Maria-9-50m-Free.txt', 'Mike-15-100m-Back.txt', 'Mike-15-100m-Fly.txt', 'Mike-15-100m-Free.txt', 'Mike-15-200m-Free.txt', 'Mike-15-200m-IM.txt', 'Owen-15-100m-Free.txt', 'Ruth-13-100m-Back.txt', 'Ruth-13-100m-Free.txt', 'Ruth-13-200m-Back.txt', 'Ruth-13-200m-Free.txt', 'Ruth-13-400m-Free.txt', 'Tasmin-15-100m-Back.txt', 'Tasmin-15-100m-Breast.txt', 'Tasmin-15-100m-Free.txt', 'Tasmin-15-200m-Breast.txt']\n"
     ]
    }
   ],
   "source": [
    "print(sorted(swim_files))"
   ]
  },
  {
   "cell_type": "code",
   "execution_count": 14,
   "metadata": {},
   "outputs": [
    {
     "name": "stdout",
     "output_type": "stream",
     "text": [
      "Help on built-in function remove:\n",
      "\n",
      "remove(value, /) method of builtins.list instance\n",
      "    Remove first occurrence of value.\n",
      "    \n",
      "    Raises ValueError if the value is not present.\n",
      "\n"
     ]
    }
   ],
   "source": [
    "help(swim_files.remove)"
   ]
  },
  {
   "cell_type": "code",
   "execution_count": 15,
   "metadata": {},
   "outputs": [],
   "source": [
    "swim_files.remove('.DS_Store')"
   ]
  },
  {
   "cell_type": "code",
   "execution_count": 16,
   "metadata": {},
   "outputs": [
    {
     "data": {
      "text/plain": [
       "60"
      ]
     },
     "execution_count": 16,
     "metadata": {},
     "output_type": "execute_result"
    }
   ],
   "source": [
    "len(swim_files)"
   ]
  },
  {
   "cell_type": "code",
   "execution_count": 28,
   "metadata": {},
   "outputs": [
    {
     "name": "stdout",
     "output_type": "stream",
     "text": [
      "1 Processing:  Abi-10-100m-Back.txt\n",
      "2 Processing:  Abi-10-100m-Breast.txt\n",
      "3 Processing:  Abi-10-50m-Back.txt\n",
      "4 Processing:  Abi-10-50m-Breast.txt\n",
      "5 Processing:  Abi-10-50m-Free.txt\n",
      "6 Processing:  Ali-12-100m-Back.txt\n",
      "7 Processing:  Ali-12-100m-Free.txt\n",
      "8 Processing:  Alison-14-100m-Breast.txt\n",
      "9 Processing:  Alison-14-100m-Free.txt\n",
      "10 Processing:  Aurora-13-50m-Free.txt\n",
      "11 Processing:  Bill-18-100m-Back.txt\n",
      "12 Processing:  Bill-18-200m-Back.txt\n",
      "13 Processing:  Blake-15-100m-Back.txt\n",
      "14 Processing:  Blake-15-100m-Fly.txt\n",
      "15 Processing:  Blake-15-100m-Free.txt\n",
      "16 Processing:  Calvin-9-50m-Back.txt\n",
      "17 Processing:  Calvin-9-50m-Fly.txt\n",
      "18 Processing:  Calvin-9-50m-Free.txt\n",
      "19 Processing:  Carl-15-100m-Back.txt\n",
      "20 Processing:  Chris-17-100m-Back.txt\n",
      "21 Processing:  Chris-17-100m-Breast.txt\n",
      "22 Processing:  Darius-13-100m-Back.txt\n",
      "23 Processing:  Darius-13-100m-Breast.txt\n",
      "24 Processing:  Darius-13-100m-Fly.txt\n",
      "25 Processing:  Darius-13-200m-IM.txt\n",
      "26 Processing:  Dave-17-100m-Free.txt\n",
      "27 Processing:  Dave-17-200m-Back.txt\n",
      "28 Processing:  Elba-14-100m-Free.txt\n",
      "29 Processing:  Emma-13-100m-Breast.txt\n",
      "30 Processing:  Emma-13-100m-Free.txt\n",
      "31 Processing:  Erika-15-100m-Breast.txt\n",
      "32 Processing:  Erika-15-100m-Free.txt\n",
      "33 Processing:  Erika-15-200m-Breast.txt\n",
      "34 Processing:  Hannah-13-100m-Back.txt\n",
      "35 Processing:  Hannah-13-100m-Free.txt\n",
      "36 Processing:  Katie-9-100m-Back.txt\n",
      "37 Processing:  Katie-9-100m-Breast.txt\n",
      "38 Processing:  Katie-9-100m-Free.txt\n",
      "39 Processing:  Katie-9-50m-Back.txt\n",
      "40 Processing:  Katie-9-50m-Breast.txt\n",
      "41 Processing:  Katie-9-50m-Fly.txt\n",
      "42 Processing:  Katie-9-50m-Free.txt\n",
      "43 Processing:  Lizzie-14-100m-Back.txt\n",
      "44 Processing:  Lizzie-14-100m-Free.txt\n",
      "45 Processing:  Maria-9-50m-Free.txt\n",
      "46 Processing:  Mike-15-100m-Back.txt\n",
      "47 Processing:  Mike-15-100m-Fly.txt\n",
      "48 Processing:  Mike-15-100m-Free.txt\n",
      "49 Processing:  Mike-15-200m-Free.txt\n",
      "50 Processing:  Mike-15-200m-IM.txt\n",
      "51 Processing:  Owen-15-100m-Free.txt\n",
      "52 Processing:  Ruth-13-100m-Back.txt\n",
      "53 Processing:  Ruth-13-100m-Free.txt\n",
      "54 Processing:  Ruth-13-200m-Back.txt\n",
      "55 Processing:  Ruth-13-200m-Free.txt\n",
      "56 Processing:  Ruth-13-400m-Free.txt\n",
      "57 Processing:  Tasmin-15-100m-Back.txt\n",
      "58 Processing:  Tasmin-15-100m-Breast.txt\n",
      "59 Processing:  Tasmin-15-100m-Free.txt\n",
      "60 Processing:  Tasmin-15-200m-Breast.txt\n"
     ]
    }
   ],
   "source": [
    "for n,f in enumerate(swim_files,1):\n",
    "    print(n, \"Processing: \", f)\n",
    "    swimclub.read_swim_data(f)"
   ]
  },
  {
   "cell_type": "code",
   "execution_count": 18,
   "metadata": {},
   "outputs": [
    {
     "data": {
      "text/plain": [
       "True"
      ]
     },
     "execution_count": 18,
     "metadata": {},
     "output_type": "execute_result"
    }
   ],
   "source": [
    "\"ell\" in \"Hello there\""
   ]
  },
  {
   "cell_type": "code",
   "execution_count": 19,
   "metadata": {},
   "outputs": [
    {
     "data": {
      "text/plain": [
       "False"
      ]
     },
     "execution_count": 19,
     "metadata": {},
     "output_type": "execute_result"
    }
   ],
   "source": [
    "\"fell\" in \"Hello there\""
   ]
  },
  {
   "cell_type": "code",
   "execution_count": 20,
   "metadata": {},
   "outputs": [
    {
     "data": {
      "text/plain": [
       "True"
      ]
     },
     "execution_count": 20,
     "metadata": {},
     "output_type": "execute_result"
    }
   ],
   "source": [
    "42 in [\"Forty Two\", 42, \"42\"]"
   ]
  },
  {
   "cell_type": "code",
   "execution_count": 21,
   "metadata": {},
   "outputs": [
    {
     "data": {
      "text/plain": [
       "False"
      ]
     },
     "execution_count": 21,
     "metadata": {},
     "output_type": "execute_result"
    }
   ],
   "source": [
    "\"two\" in [\"Forty two\", 42, \"42\"]"
   ]
  },
  {
   "cell_type": "code",
   "execution_count": 22,
   "metadata": {},
   "outputs": [
    {
     "data": {
      "text/plain": [
       "True"
      ]
     },
     "execution_count": 22,
     "metadata": {},
     "output_type": "execute_result"
    }
   ],
   "source": [
    "\"two\" in [\"Forty two\", 42, \"42\"][0]"
   ]
  },
  {
   "cell_type": "code",
   "execution_count": 23,
   "metadata": {},
   "outputs": [
    {
     "data": {
      "text/plain": [
       "True"
      ]
     },
     "execution_count": 23,
     "metadata": {},
     "output_type": "execute_result"
    }
   ],
   "source": [
    "[1,2,3] in ['a', 'b','c', [1, 2, 3], 'd', 'e','f']"
   ]
  },
  {
   "cell_type": "code",
   "execution_count": 24,
   "metadata": {},
   "outputs": [
    {
     "data": {
      "text/plain": [
       "False"
      ]
     },
     "execution_count": 24,
     "metadata": {},
     "output_type": "execute_result"
    }
   ],
   "source": [
    "[1,2] in ['a', 'b','c', [1, 2, 3], 'd', 'e','f']"
   ]
  },
  {
   "cell_type": "code",
   "execution_count": 25,
   "metadata": {},
   "outputs": [
    {
     "data": {
      "text/plain": [
       "('Abi',\n",
       " '10',\n",
       " '50m',\n",
       " 'Back',\n",
       " ['41.50',\n",
       "  '43.58',\n",
       "  '42.35',\n",
       "  '43.35',\n",
       "  '39.85',\n",
       "  '40.53',\n",
       "  '42.14',\n",
       "  '39.18',\n",
       "  '40.89',\n",
       "  '40.89'],\n",
       " '0:41.43')"
      ]
     },
     "execution_count": 25,
     "metadata": {},
     "output_type": "execute_result"
    }
   ],
   "source": [
    "swimclub.read_swim_data(\"Abi-10-50m-Back.txt\")"
   ]
  },
  {
   "cell_type": "code",
   "execution_count": null,
   "metadata": {},
   "outputs": [],
   "source": [
    "# 4 module\n",
    "# 7 enumerate\n",
    "# 8 listdir\n",
    "# 9 function\n",
    "# 12 default\n",
    "# 15 sorted\n",
    "# 16 import\n",
    "# 17 return\n",
    "# DOWN\n",
    "# 1 remove\n",
    "# 2 valueerror\n",
    "# 3 tuple\n",
    "# 5 def\n",
    "# 6 qualified\n",
    "# 10 if\n",
    "# 11 colon\n",
    "# 13 else\n",
    "# 14 triple\n",
    "# 16 in"
   ]
  }
 ],
 "metadata": {
  "kernelspec": {
   "display_name": "Python 3",
   "language": "python",
   "name": "python3"
  },
  "language_info": {
   "codemirror_mode": {
    "name": "ipython",
    "version": 3
   },
   "file_extension": ".py",
   "mimetype": "text/x-python",
   "name": "python",
   "nbconvert_exporter": "python",
   "pygments_lexer": "ipython3",
   "version": "3.10.5"
  }
 },
 "nbformat": 4,
 "nbformat_minor": 2
}
