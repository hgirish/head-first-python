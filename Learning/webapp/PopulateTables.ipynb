{
 "cells": [
  {
   "cell_type": "code",
   "execution_count": null,
   "metadata": {},
   "outputs": [],
   "source": [
    "import os\n",
    "FOLDER = \"swimdata/\"\n",
    "\n",
    "files = os.listdir(FOLDER)\n",
    "if \".DS_Store\" in files:\n",
    "  files.remove(\".DS_Store\")"
   ]
  },
  {
   "cell_type": "code",
   "execution_count": null,
   "metadata": {},
   "outputs": [],
   "source": [
    "first = files[0]\n",
    "print(first)\n",
    "name, age, _, _ = first.removesuffix(\".txt\").split(\"-\")\n",
    "name, age"
   ]
  },
  {
   "cell_type": "code",
   "execution_count": null,
   "metadata": {},
   "outputs": [],
   "source": [
    "import DBcm\n",
    "db_details = \"CoachDB.sqlite3\""
   ]
  },
  {
   "cell_type": "code",
   "execution_count": null,
   "metadata": {},
   "outputs": [],
   "source": [
    "SQL_INSERT = \"\"\"\n",
    "insert into swimmers (name, age)\n",
    "values\n",
    "(?, ?)\n",
    "\"\"\""
   ]
  },
  {
   "cell_type": "code",
   "execution_count": null,
   "metadata": {},
   "outputs": [],
   "source": [
    "with DBcm.UseDatabase(db_details) as db:\n",
    "    db.execute(SQL_INSERT, (name, age))"
   ]
  },
  {
   "cell_type": "code",
   "execution_count": null,
   "metadata": {},
   "outputs": [],
   "source": [
    "SQL = \"\"\"\n",
    "select * from swimmers\n",
    "\"\"\"\n",
    "with DBcm.UseDatabase(db_details) as db:\n",
    "    db.execute(SQL)\n",
    "    results = db.fetchall()\n",
    "results"
   ]
  },
  {
   "cell_type": "code",
   "execution_count": null,
   "metadata": {},
   "outputs": [],
   "source": [
    "SQL_DELETE = \"delete from swimmers\"\n",
    "with DBcm.UseDatabase(db_details) as db:\n",
    "    db.execute(SQL_DELETE)\n",
    "SQL = \"\"\"\n",
    "select * from swimmers\n",
    "\"\"\"\n",
    "with DBcm.UseDatabase(db_details) as db:\n",
    "    db.execute(SQL)\n",
    "    results = db.fetchall()\n",
    "results"
   ]
  },
  {
   "cell_type": "code",
   "execution_count": null,
   "metadata": {},
   "outputs": [],
   "source": [
    "import os\n",
    "import DBcm\n",
    "\n",
    "db_details = \"CoachDB.sqlite3\"\n",
    "FOLDER = \"swimdata/\"\n",
    "\n",
    "files = os.listdir(FOLDER)\n",
    "if \".DS_Store\" in files:\n",
    "  files.remove(\".DS_Store\")\n",
    "\n",
    "SQL_SELECT  = \"\"\"\n",
    "select * from swimmers\n",
    "where name = ? and age = ?\n",
    "\"\"\"\n",
    "\n",
    "SQL_INSERT = \"\"\"\n",
    "insert into swimmers\n",
    "(name, age)\n",
    "values\n",
    "(?, ?)\n",
    "\"\"\"\n",
    "\n",
    "with DBcm.UseDatabase(db_details) as db:\n",
    "    for file in files:\n",
    "        name, age, _, _ = file.removesuffix(\".txt\").split(\"-\")\n",
    "        db.execute(SQL_SELECT, (name, age))\n",
    "        if db.fetchall():\n",
    "            continue\n",
    "        db.execute(SQL_INSERT, (name, age))\n",
    "\n",
    "with DBcm.UseDatabase(db_details) as db:\n",
    "    db.execute(\"select * from swimmers\")\n",
    "    results = db.fetchall()\n",
    "\n",
    "results"
   ]
  },
  {
   "cell_type": "code",
   "execution_count": null,
   "metadata": {},
   "outputs": [],
   "source": [
    "import os\n",
    "import DBcm\n",
    "\n",
    "db_details = \"CoachDB.sqlite3\"\n",
    "FOLDER = \"swimdata/\"\n",
    "\n",
    "files = os.listdir(FOLDER)\n",
    "if \".DS_Store\" in files:\n",
    "  files.remove(\".DS_Store\")\n",
    "\n",
    "SQL_SELECT  = \"\"\"\n",
    "select * from events\n",
    "where distance = ? and stroke = ?\n",
    "\"\"\"\n",
    "\n",
    "SQL_INSERT = \"\"\"\n",
    "insert into events\n",
    "(distance, stroke)\n",
    "values\n",
    "(?, ?)\n",
    "\"\"\"\n",
    "\n",
    "with DBcm.UseDatabase(db_details) as db:\n",
    "    for file in files:\n",
    "        _, _, distance, stroke = file.removesuffix(\".txt\").split(\"-\")\n",
    "        db.execute(SQL_SELECT, (distance, stroke))\n",
    "        if db.fetchall():\n",
    "            continue\n",
    "        db.execute(SQL_INSERT, (distance, stroke))\n",
    "\n",
    "with DBcm.UseDatabase(db_details) as db:\n",
    "    db.execute(\"select * from events\")\n",
    "    results = db.fetchall()\n",
    "\n",
    "results"
   ]
  },
  {
   "cell_type": "code",
   "execution_count": null,
   "metadata": {},
   "outputs": [],
   "source": [
    "with DBcm.UseDatabase(db_details) as db:\n",
    "    db.execute(\"pragma table_info(times)\")\n",
    "    results = db.fetchall()\n",
    "\n",
    "results"
   ]
  },
  {
   "cell_type": "code",
   "execution_count": 1,
   "metadata": {},
   "outputs": [
    {
     "ename": "TypeError",
     "evalue": "'NoneType' object is not subscriptable",
     "output_type": "error",
     "traceback": [
      "\u001b[1;31m---------------------------------------------------------------------------\u001b[0m",
      "\u001b[1;31mTypeError\u001b[0m                                 Traceback (most recent call last)",
      "\u001b[1;32md:\\Dev\\Projects\\learn\\python\\HeadFirst\\Learning\\webapp\\PopulateTables.ipynb Cell 11\u001b[0m line \u001b[0;36m3\n\u001b[0;32m     <a href='vscode-notebook-cell:/d%3A/Dev/Projects/learn/python/HeadFirst/Learning/webapp/PopulateTables.ipynb#X30sZmlsZQ%3D%3D?line=32'>33</a>\u001b[0m records \u001b[39m=\u001b[39m db\u001b[39m.\u001b[39mfetchone()\n\u001b[1;32m---> <a href='vscode-notebook-cell:/d%3A/Dev/Projects/learn/python/HeadFirst/Learning/webapp/PopulateTables.ipynb#X30sZmlsZQ%3D%3D?line=33'>34</a>\u001b[0m swimmer_id \u001b[39m=\u001b[39m records[\u001b[39m0\u001b[39;49m]\n\u001b[0;32m     <a href='vscode-notebook-cell:/d%3A/Dev/Projects/learn/python/HeadFirst/Learning/webapp/PopulateTables.ipynb#X30sZmlsZQ%3D%3D?line=35'>36</a>\u001b[0m db\u001b[39m.\u001b[39mexecute(SQL_GET_EVENT, (distance, stroke))\n",
      "\u001b[1;31mTypeError\u001b[0m: 'NoneType' object is not subscriptable",
      "\nDuring handling of the above exception, another exception occurred:\n",
      "\u001b[1;31mTypeError\u001b[0m                                 Traceback (most recent call last)",
      "\u001b[1;32md:\\Dev\\Projects\\learn\\python\\HeadFirst\\Learning\\webapp\\PopulateTables.ipynb Cell 11\u001b[0m line \u001b[0;36m2\n\u001b[0;32m     <a href='vscode-notebook-cell:/d%3A/Dev/Projects/learn/python/HeadFirst/Learning/webapp/PopulateTables.ipynb#X30sZmlsZQ%3D%3D?line=15'>16</a>\u001b[0m SQL_GET_EVENT \u001b[39m=\u001b[39m \u001b[39m\"\"\"\u001b[39m\n\u001b[0;32m     <a href='vscode-notebook-cell:/d%3A/Dev/Projects/learn/python/HeadFirst/Learning/webapp/PopulateTables.ipynb#X30sZmlsZQ%3D%3D?line=16'>17</a>\u001b[0m \u001b[39mselect id from events\u001b[39m\n\u001b[0;32m     <a href='vscode-notebook-cell:/d%3A/Dev/Projects/learn/python/HeadFirst/Learning/webapp/PopulateTables.ipynb#X30sZmlsZQ%3D%3D?line=17'>18</a>\u001b[0m \u001b[39mwhere distance = ? and stroke = ?\u001b[39m\n\u001b[0;32m     <a href='vscode-notebook-cell:/d%3A/Dev/Projects/learn/python/HeadFirst/Learning/webapp/PopulateTables.ipynb#X30sZmlsZQ%3D%3D?line=18'>19</a>\u001b[0m \u001b[39m\"\"\"\u001b[39m\n\u001b[0;32m     <a href='vscode-notebook-cell:/d%3A/Dev/Projects/learn/python/HeadFirst/Learning/webapp/PopulateTables.ipynb#X30sZmlsZQ%3D%3D?line=20'>21</a>\u001b[0m SQL_INSERT \u001b[39m=\u001b[39m \u001b[39m\"\"\"\u001b[39m\n\u001b[0;32m     <a href='vscode-notebook-cell:/d%3A/Dev/Projects/learn/python/HeadFirst/Learning/webapp/PopulateTables.ipynb#X30sZmlsZQ%3D%3D?line=21'>22</a>\u001b[0m \u001b[39minsert into times\u001b[39m\n\u001b[0;32m     <a href='vscode-notebook-cell:/d%3A/Dev/Projects/learn/python/HeadFirst/Learning/webapp/PopulateTables.ipynb#X30sZmlsZQ%3D%3D?line=22'>23</a>\u001b[0m \u001b[39m(swimmer_id, event_id, time)\u001b[39m\n\u001b[0;32m     <a href='vscode-notebook-cell:/d%3A/Dev/Projects/learn/python/HeadFirst/Learning/webapp/PopulateTables.ipynb#X30sZmlsZQ%3D%3D?line=23'>24</a>\u001b[0m \u001b[39mvalues\u001b[39m\n\u001b[0;32m     <a href='vscode-notebook-cell:/d%3A/Dev/Projects/learn/python/HeadFirst/Learning/webapp/PopulateTables.ipynb#X30sZmlsZQ%3D%3D?line=24'>25</a>\u001b[0m \u001b[39m(?, ?, ?)\u001b[39m\n\u001b[0;32m     <a href='vscode-notebook-cell:/d%3A/Dev/Projects/learn/python/HeadFirst/Learning/webapp/PopulateTables.ipynb#X30sZmlsZQ%3D%3D?line=25'>26</a>\u001b[0m \u001b[39m\"\"\"\u001b[39m\n\u001b[1;32m---> <a href='vscode-notebook-cell:/d%3A/Dev/Projects/learn/python/HeadFirst/Learning/webapp/PopulateTables.ipynb#X30sZmlsZQ%3D%3D?line=27'>28</a>\u001b[0m \u001b[39mwith\u001b[39;49;00m DBcm\u001b[39m.\u001b[39;49mUseDatabase(db_details) \u001b[39mas\u001b[39;49;00m db:\n\u001b[0;32m     <a href='vscode-notebook-cell:/d%3A/Dev/Projects/learn/python/HeadFirst/Learning/webapp/PopulateTables.ipynb#X30sZmlsZQ%3D%3D?line=28'>29</a>\u001b[0m   \u001b[39mfor\u001b[39;49;00m fn \u001b[39min\u001b[39;49;00m files:\n\u001b[0;32m     <a href='vscode-notebook-cell:/d%3A/Dev/Projects/learn/python/HeadFirst/Learning/webapp/PopulateTables.ipynb#X30sZmlsZQ%3D%3D?line=29'>30</a>\u001b[0m     name, age, distance, stroke \u001b[39m=\u001b[39;49m fn\u001b[39m.\u001b[39;49mremovesuffix(\u001b[39m\"\u001b[39;49m\u001b[39m.txt\u001b[39;49m\u001b[39m\"\u001b[39;49m)\u001b[39m.\u001b[39;49msplit(\u001b[39m\"\u001b[39;49m\u001b[39m-\u001b[39;49m\u001b[39m\"\u001b[39;49m)\n",
      "File \u001b[1;32md:\\Python312\\Lib\\site-packages\\DBcm.py:118\u001b[0m, in \u001b[0;36mUseDatabase.__exit__\u001b[1;34m(self, exc_type, exc_value, exc_traceback)\u001b[0m\n\u001b[0;32m    116\u001b[0m     \u001b[39mraise\u001b[39;00m SQLError(exc_value)\n\u001b[0;32m    117\u001b[0m \u001b[39melif\u001b[39;00m exc_type:\n\u001b[1;32m--> 118\u001b[0m     \u001b[39mraise\u001b[39;00m exc_type(exc_value)\n",
      "\u001b[1;31mTypeError\u001b[0m: 'NoneType' object is not subscriptable"
     ]
    }
   ],
   "source": [
    "import os\n",
    "import DBcm\n",
    "\n",
    "db_details = \"CoachDB.sqlite3\"\n",
    "FOLDER = \"swimdata/\"\n",
    "\n",
    "files = os.listdir(FOLDER)\n",
    "if \".DS_Store\" in files:\n",
    "  files.remove(\".DS_Store\")\n",
    "\n",
    "SQL_GET_SWIMMER = \"\"\"\n",
    "select id from swimmers\n",
    "where name = ? and age = ?\n",
    "\"\"\"\n",
    "\n",
    "SQL_GET_EVENT = \"\"\"\n",
    "select id from events\n",
    "where distance = ? and stroke = ?\n",
    "\"\"\"\n",
    "\n",
    "SQL_INSERT = \"\"\"\n",
    "insert into times\n",
    "(swimmer_id, event_id, time)\n",
    "values\n",
    "(?, ?, ?)\n",
    "\"\"\"\n",
    "\n",
    "with DBcm.UseDatabase(db_details) as db:\n",
    "  for fn in files:\n",
    "    name, age, distance, stroke = fn.removesuffix(\".txt\").split(\"-\")\n",
    "\n",
    "    db.execute(SQL_GET_SWIMMER, (name, age))\n",
    "    records = db.fetchone()\n",
    "    swimmer_id = records[0]\n",
    "\n",
    "    db.execute(SQL_GET_EVENT, (distance, stroke))\n",
    "    records = db.fetchone()\n",
    "    event_id = records[0]\n",
    "\n",
    "    with open(FOLDER + fn) as fh:\n",
    "      times = fh.readlines()[0].strip().split(\",\")\n",
    "      for t in times:\n",
    "        db.execute(SQL_INSERT, (swimmer_id, event_id, t))\n",
    "\n"
   ]
  },
  {
   "cell_type": "code",
   "execution_count": 32,
   "metadata": {},
   "outputs": [
    {
     "data": {
      "text/plain": [
       "[(26, 1, '1:31.59', '2023-11-11 07:10:15'),\n",
       " (26, 1, '1:26.55', '2023-11-11 07:10:15'),\n",
       " (26, 1, '1:28.75', '2023-11-11 07:10:15'),\n",
       " (26, 1, '1:39.79', '2023-11-11 07:10:15'),\n",
       " (26, 1, '1:32.37', '2023-11-11 07:10:15'),\n",
       " (26, 2, '1:42.97', '2023-11-11 07:10:15'),\n",
       " (26, 2, '1:43.31', '2023-11-11 07:10:15'),\n",
       " (26, 2, '1:43.50', '2023-11-11 07:10:15'),\n",
       " (26, 2, '1:40.34', '2023-11-11 07:10:15'),\n",
       " (26, 3, '41.50', '2023-11-11 07:10:15')]"
      ]
     },
     "execution_count": 32,
     "metadata": {},
     "output_type": "execute_result"
    }
   ],
   "source": [
    "with DBcm.UseDatabase(db_details) as db:\n",
    "  db.execute(\"select * from times limit 10\")\n",
    "  records = db.fetchall()\n",
    "\n",
    "records"
   ]
  },
  {
   "cell_type": "code",
   "execution_count": 34,
   "metadata": {},
   "outputs": [
    {
     "name": "stdout",
     "output_type": "stream",
     "text": [
      "Total rows: 338\n"
     ]
    }
   ],
   "source": [
    "SQL = \"\"\" select count(*) as total_rows from times\"\"\"\n",
    "with DBcm.UseDatabase(db_details) as db:\n",
    "  db.execute(SQL)\n",
    "  print(\"Total rows:\",db.fetchone()[0])"
   ]
  },
  {
   "cell_type": "code",
   "execution_count": null,
   "metadata": {},
   "outputs": [],
   "source": []
  }
 ],
 "metadata": {
  "kernelspec": {
   "display_name": "Python 3",
   "language": "python",
   "name": "python3"
  },
  "language_info": {
   "codemirror_mode": {
    "name": "ipython",
    "version": 3
   },
   "file_extension": ".py",
   "mimetype": "text/x-python",
   "name": "python",
   "nbconvert_exporter": "python",
   "pygments_lexer": "ipython3",
   "version": "3.12.0"
  }
 },
 "nbformat": 4,
 "nbformat_minor": 2
}
