{
 "cells": [
  {
   "cell_type": "code",
   "execution_count": 15,
   "metadata": {},
   "outputs": [],
   "source": [
    "import os\n",
    "FOLDER = \"swimdata/\" \n",
    "\n",
    "files = os.listdir(FOLDER)\n",
    "files.remove(\".DS_Store\")"
   ]
  },
  {
   "cell_type": "code",
   "execution_count": 16,
   "metadata": {},
   "outputs": [
    {
     "name": "stdout",
     "output_type": "stream",
     "text": [
      "Abi-10-100m-Back.txt\n"
     ]
    },
    {
     "data": {
      "text/plain": [
       "('Abi', '10')"
      ]
     },
     "execution_count": 16,
     "metadata": {},
     "output_type": "execute_result"
    }
   ],
   "source": [
    "first = files[0]\n",
    "print(first)\n",
    "name, age, _, _ = first.removesuffix(\".txt\").split(\"-\")\n",
    "name, age"
   ]
  },
  {
   "cell_type": "code",
   "execution_count": 17,
   "metadata": {},
   "outputs": [],
   "source": [
    "import DBcm\n",
    "db_details = \"CoachDB.sqlite3\""
   ]
  },
  {
   "cell_type": "code",
   "execution_count": 18,
   "metadata": {},
   "outputs": [],
   "source": [
    "SQL_INSERT = \"\"\"\n",
    "insert into swimmers (name, age)\n",
    "values\n",
    "(?, ?) \n",
    "\"\"\""
   ]
  },
  {
   "cell_type": "code",
   "execution_count": 19,
   "metadata": {},
   "outputs": [],
   "source": [
    "with DBcm.UseDatabase(db_details) as db:\n",
    "    db.execute(SQL_INSERT, (name, age))"
   ]
  },
  {
   "cell_type": "code",
   "execution_count": 20,
   "metadata": {},
   "outputs": [
    {
     "data": {
      "text/plain": [
       "[(62, 'Abi', 10)]"
      ]
     },
     "execution_count": 20,
     "metadata": {},
     "output_type": "execute_result"
    }
   ],
   "source": [
    "SQL = \"\"\"\n",
    "select * from swimmers\n",
    "\"\"\"\n",
    "with DBcm.UseDatabase(db_details) as db:\n",
    "    db.execute(SQL)\n",
    "    results = db.fetchall()\n",
    "results"
   ]
  },
  {
   "cell_type": "code",
   "execution_count": 21,
   "metadata": {},
   "outputs": [
    {
     "data": {
      "text/plain": [
       "[]"
      ]
     },
     "execution_count": 21,
     "metadata": {},
     "output_type": "execute_result"
    }
   ],
   "source": [
    "SQL_DELETE = \"delete from swimmers\"\n",
    "with DBcm.UseDatabase(db_details) as db:\n",
    "    db.execute(SQL_DELETE)\n",
    "SQL = \"\"\"\n",
    "select * from swimmers\n",
    "\"\"\"\n",
    "with DBcm.UseDatabase(db_details) as db:\n",
    "    db.execute(SQL)\n",
    "    results = db.fetchall()\n",
    "results"
   ]
  },
  {
   "cell_type": "code",
   "execution_count": 22,
   "metadata": {},
   "outputs": [
    {
     "data": {
      "text/plain": [
       "[(63, 'Abi', 10),\n",
       " (64, 'Ali', 12),\n",
       " (65, 'Alison', 14),\n",
       " (66, 'Aurora', 13),\n",
       " (67, 'Bill', 18),\n",
       " (68, 'Blake', 15),\n",
       " (69, 'Calvin', 9),\n",
       " (70, 'Carl', 15),\n",
       " (71, 'Chris', 17),\n",
       " (72, 'Darius', 13),\n",
       " (73, 'Dave', 17),\n",
       " (74, 'Elba', 14),\n",
       " (75, 'Emma', 13),\n",
       " (76, 'Erika', 15),\n",
       " (77, 'Hannah', 13),\n",
       " (78, 'Katie', 9),\n",
       " (79, 'Lizzie', 14),\n",
       " (80, 'Maria', 9),\n",
       " (81, 'Mike', 15),\n",
       " (82, 'Owen', 15),\n",
       " (83, 'Ruth', 13),\n",
       " (84, 'Tasmin', 15)]"
      ]
     },
     "execution_count": 22,
     "metadata": {},
     "output_type": "execute_result"
    }
   ],
   "source": [
    "import os \n",
    "import DBcm \n",
    "\n",
    "db_details = \"CoachDB.sqlite3\"\n",
    "FOLDER = \"swimdata/\"\n",
    "\n",
    "files = os.listdir(FOLDER)\n",
    "files.remove(\".DS_Store\")\n",
    "\n",
    "SQL_SELECT  = \"\"\" \n",
    "select * from swimmers\n",
    "where name = ? and age = ?\n",
    "\"\"\"\n",
    "\n",
    "SQL_INSERT = \"\"\" \n",
    "insert into swimmers\n",
    "(name, age)\n",
    "values\n",
    "(?, ?)\n",
    "\"\"\"\n",
    "\n",
    "with DBcm.UseDatabase(db_details) as db:\n",
    "    for file in files:\n",
    "        name, age, _, _ = file.removesuffix(\".txt\").split(\"-\")\n",
    "        db.execute(SQL_SELECT, (name, age))        \n",
    "        if db.fetchall():\n",
    "            continue\n",
    "        db.execute(SQL_INSERT, (name, age))\n",
    "\n",
    "with DBcm.UseDatabase(db_details) as db:\n",
    "    db.execute(\"select * from swimmers\")\n",
    "    results = db.fetchall()\n",
    "\n",
    "results"
   ]
  },
  {
   "cell_type": "code",
   "execution_count": 25,
   "metadata": {},
   "outputs": [
    {
     "data": {
      "text/plain": [
       "[(1, '100m', 'Back'),\n",
       " (2, '100m', 'Breast'),\n",
       " (3, '50m', 'Back'),\n",
       " (4, '50m', 'Breast'),\n",
       " (5, '50m', 'Free'),\n",
       " (6, '100m', 'Free'),\n",
       " (7, '200m', 'Back'),\n",
       " (8, '100m', 'Fly'),\n",
       " (9, '50m', 'Fly'),\n",
       " (10, '200m', 'IM'),\n",
       " (11, '200m', 'Breast'),\n",
       " (12, '200m', 'Free'),\n",
       " (13, '400m', 'Free')]"
      ]
     },
     "execution_count": 25,
     "metadata": {},
     "output_type": "execute_result"
    }
   ],
   "source": [
    "import os \n",
    "import DBcm \n",
    "\n",
    "db_details = \"CoachDB.sqlite3\"\n",
    "FOLDER = \"swimdata/\"\n",
    "\n",
    "files = os.listdir(FOLDER)\n",
    "files.remove(\".DS_Store\")\n",
    "\n",
    "SQL_SELECT  = \"\"\" \n",
    "select * from events\n",
    "where distance = ? and stroke = ?\n",
    "\"\"\"\n",
    "\n",
    "SQL_INSERT = \"\"\" \n",
    "insert into events\n",
    "(distance, stroke)\n",
    "values\n",
    "(?, ?)\n",
    "\"\"\"\n",
    "\n",
    "with DBcm.UseDatabase(db_details) as db:\n",
    "    for file in files:\n",
    "        _, _, distance, stroke = file.removesuffix(\".txt\").split(\"-\")\n",
    "        db.execute(SQL_SELECT, (distance, stroke))        \n",
    "        if db.fetchall():\n",
    "            continue\n",
    "        db.execute(SQL_INSERT, (distance, stroke))\n",
    "\n",
    "with DBcm.UseDatabase(db_details) as db:\n",
    "    db.execute(\"select * from events\")\n",
    "    results = db.fetchall()\n",
    "\n",
    "results"
   ]
  },
  {
   "cell_type": "code",
   "execution_count": 27,
   "metadata": {},
   "outputs": [
    {
     "data": {
      "text/plain": [
       "[(0, 'swimmer_id', 'INTEGER', 1, None, 0),\n",
       " (1, 'event_id', 'INTEGER', 1, None, 0),\n",
       " (2, 'time', 'varchar(16)', 1, None, 0),\n",
       " (3, 'ts', 'timestamp', 0, 'current_timestamp', 0)]"
      ]
     },
     "execution_count": 27,
     "metadata": {},
     "output_type": "execute_result"
    }
   ],
   "source": [
    "with DBcm.UseDatabase(db_details) as db:\n",
    "    db.execute(\"pragma table_info(times)\")\n",
    "    results = db.fetchall()\n",
    "\n",
    "results"
   ]
  },
  {
   "cell_type": "code",
   "execution_count": null,
   "metadata": {},
   "outputs": [],
   "source": []
  }
 ],
 "metadata": {
  "kernelspec": {
   "display_name": "Python 3",
   "language": "python",
   "name": "python3"
  },
  "language_info": {
   "codemirror_mode": {
    "name": "ipython",
    "version": 3
   },
   "file_extension": ".py",
   "mimetype": "text/x-python",
   "name": "python",
   "nbconvert_exporter": "python",
   "pygments_lexer": "ipython3",
   "version": "3.12.0"
  }
 },
 "nbformat": 4,
 "nbformat_minor": 2
}
