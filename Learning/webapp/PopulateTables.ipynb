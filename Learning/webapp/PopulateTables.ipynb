{
 "cells": [
  {
   "cell_type": "code",
   "execution_count": null,
   "metadata": {},
   "outputs": [],
   "source": [
    "import os\n",
    "FOLDER = \"swimdata/\"\n",
    "\n",
    "files = os.listdir(FOLDER)\n",
    "if \".DS_Store\" in files:\n",
    "  files.remove(\".DS_Store\")"
   ]
  },
  {
   "cell_type": "code",
   "execution_count": null,
   "metadata": {},
   "outputs": [],
   "source": [
    "first = files[0]\n",
    "print(first)\n",
    "name, age, _, _ = first.removesuffix(\".txt\").split(\"-\")\n",
    "name, age"
   ]
  },
  {
   "cell_type": "code",
   "execution_count": null,
   "metadata": {},
   "outputs": [],
   "source": [
    "import DBcm\n",
    "db_details = \"CoachDB.sqlite3\""
   ]
  },
  {
   "cell_type": "code",
   "execution_count": null,
   "metadata": {},
   "outputs": [],
   "source": [
    "SQL_INSERT = \"\"\"\n",
    "insert into swimmers (name, age)\n",
    "values\n",
    "(?, ?)\n",
    "\"\"\""
   ]
  },
  {
   "cell_type": "code",
   "execution_count": null,
   "metadata": {},
   "outputs": [],
   "source": [
    "with DBcm.UseDatabase(db_details) as db:\n",
    "    db.execute(SQL_INSERT, (name, age))"
   ]
  },
  {
   "cell_type": "code",
   "execution_count": null,
   "metadata": {},
   "outputs": [],
   "source": [
    "SQL = \"\"\"\n",
    "select * from swimmers\n",
    "\"\"\"\n",
    "with DBcm.UseDatabase(db_details) as db:\n",
    "    db.execute(SQL)\n",
    "    results = db.fetchall()\n",
    "results"
   ]
  },
  {
   "cell_type": "code",
   "execution_count": null,
   "metadata": {},
   "outputs": [],
   "source": [
    "SQL_DELETE = \"delete from swimmers\"\n",
    "with DBcm.UseDatabase(db_details) as db:\n",
    "    db.execute(SQL_DELETE)\n",
    "SQL = \"\"\"\n",
    "select * from swimmers\n",
    "\"\"\"\n",
    "with DBcm.UseDatabase(db_details) as db:\n",
    "    db.execute(SQL)\n",
    "    results = db.fetchall()\n",
    "results"
   ]
  },
  {
   "cell_type": "code",
   "execution_count": null,
   "metadata": {},
   "outputs": [],
   "source": [
    "import os\n",
    "import DBcm\n",
    "\n",
    "db_details = \"CoachDB.sqlite3\"\n",
    "FOLDER = \"swimdata/\"\n",
    "\n",
    "files = os.listdir(FOLDER)\n",
    "if \".DS_Store\" in files:\n",
    "  files.remove(\".DS_Store\")\n",
    "\n",
    "SQL_SELECT  = \"\"\"\n",
    "select * from swimmers\n",
    "where name = ? and age = ?\n",
    "\"\"\"\n",
    "\n",
    "SQL_INSERT = \"\"\"\n",
    "insert into swimmers\n",
    "(name, age)\n",
    "values\n",
    "(?, ?)\n",
    "\"\"\"\n",
    "\n",
    "with DBcm.UseDatabase(db_details) as db:\n",
    "    for file in files:\n",
    "        name, age, _, _ = file.removesuffix(\".txt\").split(\"-\")\n",
    "        db.execute(SQL_SELECT, (name, age))\n",
    "        if db.fetchall():\n",
    "            continue\n",
    "        db.execute(SQL_INSERT, (name, age))\n",
    "\n",
    "with DBcm.UseDatabase(db_details) as db:\n",
    "    db.execute(\"select * from swimmers\")\n",
    "    results = db.fetchall()\n",
    "\n",
    "results"
   ]
  },
  {
   "cell_type": "code",
   "execution_count": null,
   "metadata": {},
   "outputs": [],
   "source": [
    "import os\n",
    "import DBcm\n",
    "\n",
    "db_details = \"CoachDB.sqlite3\"\n",
    "FOLDER = \"swimdata/\"\n",
    "\n",
    "files = os.listdir(FOLDER)\n",
    "if \".DS_Store\" in files:\n",
    "  files.remove(\".DS_Store\")\n",
    "\n",
    "SQL_SELECT  = \"\"\"\n",
    "select * from events\n",
    "where distance = ? and stroke = ?\n",
    "\"\"\"\n",
    "\n",
    "SQL_INSERT = \"\"\"\n",
    "insert into events\n",
    "(distance, stroke)\n",
    "values\n",
    "(?, ?)\n",
    "\"\"\"\n",
    "\n",
    "with DBcm.UseDatabase(db_details) as db:\n",
    "    for file in files:\n",
    "        _, _, distance, stroke = file.removesuffix(\".txt\").split(\"-\")\n",
    "        db.execute(SQL_SELECT, (distance, stroke))\n",
    "        if db.fetchall():\n",
    "            continue\n",
    "        db.execute(SQL_INSERT, (distance, stroke))\n",
    "\n",
    "with DBcm.UseDatabase(db_details) as db:\n",
    "    db.execute(\"select * from events\")\n",
    "    results = db.fetchall()\n",
    "\n",
    "results"
   ]
  },
  {
   "cell_type": "code",
   "execution_count": null,
   "metadata": {},
   "outputs": [],
   "source": [
    "with DBcm.UseDatabase(db_details) as db:\n",
    "    db.execute(\"pragma table_info(times)\")\n",
    "    results = db.fetchall()\n",
    "\n",
    "results"
   ]
  },
  {
   "cell_type": "code",
   "execution_count": 30,
   "metadata": {},
   "outputs": [],
   "source": [
    "import os\n",
    "import DBcm\n",
    "\n",
    "db_details = \"CoachDB.sqlite3\"\n",
    "FOLDER = \"swimdata/\"\n",
    "\n",
    "files = os.listdir(FOLDER)\n",
    "if \".DS_Store\" in files:\n",
    "  files.remove(\".DS_Store\")\n",
    "\n",
    "SQL_GET_SWIMMER = \"\"\"\n",
    "select id from swimmers\n",
    "where name = ? and age = ?\n",
    "\"\"\"\n",
    "\n",
    "SQL_GET_EVENT = \"\"\"\n",
    "select id from events\n",
    "where distance = ? and stroke = ?\n",
    "\"\"\"\n",
    "\n",
    "SQL_INSERT = \"\"\"\n",
    "insert into times\n",
    "(swimmer_id, event_id, time)\n",
    "values\n",
    "(?, ?, ?)\n",
    "\"\"\"\n",
    "\n",
    "with DBcm.UseDatabase(db_details) as db:\n",
    "  for fn in files:\n",
    "    name, age, distance, stroke = fn.removesuffix(\".txt\").split(\"-\")\n",
    "\n",
    "    db.execute(SQL_GET_SWIMMER, (name, age))\n",
    "    records = db.fetchone()\n",
    "    swimmer_id = records[0]\n",
    "\n",
    "    db.execute(SQL_GET_EVENT, (distance, stroke))\n",
    "    records = db.fetchone()\n",
    "    event_id = records[0]\n",
    "\n",
    "    with open(FOLDER + fn) as fh:\n",
    "      times = fh.readlines()[0].strip().split(\",\")\n",
    "      for t in times:\n",
    "        db.execute(SQL_INSERT, (swimmer_id, event_id, t))\n",
    "\n"
   ]
  },
  {
   "cell_type": "code",
   "execution_count": 32,
   "metadata": {},
   "outputs": [
    {
     "data": {
      "text/plain": [
       "[(26, 1, '1:31.59', '2023-11-11 07:10:15'),\n",
       " (26, 1, '1:26.55', '2023-11-11 07:10:15'),\n",
       " (26, 1, '1:28.75', '2023-11-11 07:10:15'),\n",
       " (26, 1, '1:39.79', '2023-11-11 07:10:15'),\n",
       " (26, 1, '1:32.37', '2023-11-11 07:10:15'),\n",
       " (26, 2, '1:42.97', '2023-11-11 07:10:15'),\n",
       " (26, 2, '1:43.31', '2023-11-11 07:10:15'),\n",
       " (26, 2, '1:43.50', '2023-11-11 07:10:15'),\n",
       " (26, 2, '1:40.34', '2023-11-11 07:10:15'),\n",
       " (26, 3, '41.50', '2023-11-11 07:10:15')]"
      ]
     },
     "execution_count": 32,
     "metadata": {},
     "output_type": "execute_result"
    }
   ],
   "source": [
    "with DBcm.UseDatabase(db_details) as db:\n",
    "  db.execute(\"select * from times limit 10\")\n",
    "  records = db.fetchall()\n",
    "\n",
    "records"
   ]
  },
  {
   "cell_type": "code",
   "execution_count": 34,
   "metadata": {},
   "outputs": [
    {
     "name": "stdout",
     "output_type": "stream",
     "text": [
      "Total rows: 338\n"
     ]
    }
   ],
   "source": [
    "SQL = \"\"\" select count(*) as total_rows from times\"\"\"\n",
    "with DBcm.UseDatabase(db_details) as db:\n",
    "  db.execute(SQL)\n",
    "  print(\"Total rows:\",db.fetchone()[0])"
   ]
  },
  {
   "cell_type": "code",
   "execution_count": null,
   "metadata": {},
   "outputs": [],
   "source": []
  }
 ],
 "metadata": {
  "kernelspec": {
   "display_name": "Python 3",
   "language": "python",
   "name": "python3"
  },
  "language_info": {
   "codemirror_mode": {
    "name": "ipython",
    "version": 3
   },
   "file_extension": ".py",
   "mimetype": "text/x-python",
   "name": "python",
   "nbconvert_exporter": "python",
   "pygments_lexer": "ipython3",
   "version": "3.12.0"
  }
 },
 "nbformat": 4,
 "nbformat_minor": 2
}
