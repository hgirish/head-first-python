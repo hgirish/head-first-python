{
 "cells": [
  {
   "cell_type": "code",
   "execution_count": 1,
   "metadata": {},
   "outputs": [
    {
     "name": "stdout",
     "output_type": "stream",
     "text": [
      "Collecting DBcm\n",
      "  Downloading dbcm-2.1-py3-none-any.whl (4.0 kB)\n",
      "Collecting mysql-connector-python (from DBcm)\n",
      "  Downloading mysql_connector_python-8.2.0-cp312-cp312-win_amd64.whl.metadata (2.1 kB)\n",
      "Collecting protobuf<=4.21.12,>=4.21.1 (from mysql-connector-python->DBcm)\n",
      "  Downloading protobuf-4.21.12-cp310-abi3-win_amd64.whl (527 kB)\n",
      "     ---------------------------------------- 0.0/527.0 kB ? eta -:--:--\n",
      "     ---------------------------------------- 0.0/527.0 kB ? eta -:--:--\n",
      "     ---------------------------------------- 0.0/527.0 kB ? eta -:--:--\n",
      "     ---------------------------------------- 0.0/527.0 kB ? eta -:--:--\n",
      "      --------------------------------------- 10.2/527.0 kB ? eta -:--:--\n",
      "      --------------------------------------- 10.2/527.0 kB ? eta -:--:--\n",
      "      --------------------------------------- 10.2/527.0 kB ? eta -:--:--\n",
      "     -- ---------------------------------- 30.7/527.0 kB 131.3 kB/s eta 0:00:04\n",
      "     -- ---------------------------------- 41.0/527.0 kB 140.9 kB/s eta 0:00:04\n",
      "     ---- -------------------------------- 61.4/527.0 kB 204.8 kB/s eta 0:00:03\n",
      "     ------- ---------------------------- 112.6/527.0 kB 328.2 kB/s eta 0:00:02\n",
      "     ------------- ---------------------- 194.6/527.0 kB 537.4 kB/s eta 0:00:01\n",
      "     ------------------- ---------------- 286.7/527.0 kB 681.0 kB/s eta 0:00:01\n",
      "     ------------------------- ---------- 368.6/527.0 kB 820.1 kB/s eta 0:00:01\n",
      "     -------------------------------- --- 481.3/527.0 kB 942.1 kB/s eta 0:00:01\n",
      "     ------------------------------------ 527.0/527.0 kB 973.2 kB/s eta 0:00:00\n",
      "Downloading mysql_connector_python-8.2.0-cp312-cp312-win_amd64.whl (14.2 MB)\n",
      "   ---------------------------------------- 0.0/14.2 MB ? eta -:--:--\n",
      "   ---------------------------------------- 0.1/14.2 MB 2.4 MB/s eta 0:00:06\n",
      "    --------------------------------------- 0.2/14.2 MB 2.8 MB/s eta 0:00:06\n",
      "    --------------------------------------- 0.3/14.2 MB 2.3 MB/s eta 0:00:06\n",
      "   - -------------------------------------- 0.5/14.2 MB 2.4 MB/s eta 0:00:06\n",
      "   - -------------------------------------- 0.6/14.2 MB 2.5 MB/s eta 0:00:06\n",
      "   -- ------------------------------------- 0.7/14.2 MB 2.6 MB/s eta 0:00:06\n",
      "   -- ------------------------------------- 0.9/14.2 MB 2.6 MB/s eta 0:00:06\n",
      "   -- ------------------------------------- 1.0/14.2 MB 2.7 MB/s eta 0:00:05\n",
      "   --- ------------------------------------ 1.1/14.2 MB 2.7 MB/s eta 0:00:05\n",
      "   --- ------------------------------------ 1.3/14.2 MB 2.8 MB/s eta 0:00:05\n",
      "   ---- ----------------------------------- 1.5/14.2 MB 2.8 MB/s eta 0:00:05\n",
      "   ---- ----------------------------------- 1.6/14.2 MB 2.9 MB/s eta 0:00:05\n",
      "   ---- ----------------------------------- 1.8/14.2 MB 2.9 MB/s eta 0:00:05\n",
      "   ----- ---------------------------------- 1.9/14.2 MB 3.0 MB/s eta 0:00:05\n",
      "   ----- ---------------------------------- 2.1/14.2 MB 3.0 MB/s eta 0:00:05\n",
      "   ------ --------------------------------- 2.3/14.2 MB 3.0 MB/s eta 0:00:04\n",
      "   ------ --------------------------------- 2.4/14.2 MB 3.1 MB/s eta 0:00:04\n",
      "   ------- -------------------------------- 2.6/14.2 MB 3.1 MB/s eta 0:00:04\n",
      "   ------- -------------------------------- 2.8/14.2 MB 3.2 MB/s eta 0:00:04\n",
      "   -------- ------------------------------- 3.0/14.2 MB 3.2 MB/s eta 0:00:04\n",
      "   -------- ------------------------------- 3.2/14.2 MB 3.3 MB/s eta 0:00:04\n",
      "   --------- ------------------------------ 3.4/14.2 MB 3.3 MB/s eta 0:00:04\n",
      "   ---------- ----------------------------- 3.6/14.2 MB 3.3 MB/s eta 0:00:04\n",
      "   ---------- ----------------------------- 3.8/14.2 MB 3.4 MB/s eta 0:00:04\n",
      "   ----------- ---------------------------- 4.1/14.2 MB 3.5 MB/s eta 0:00:03\n",
      "   ------------ --------------------------- 4.3/14.2 MB 3.5 MB/s eta 0:00:03\n",
      "   ------------ --------------------------- 4.5/14.2 MB 3.6 MB/s eta 0:00:03\n",
      "   ------------- -------------------------- 4.8/14.2 MB 3.7 MB/s eta 0:00:03\n",
      "   -------------- ------------------------- 5.0/14.2 MB 3.7 MB/s eta 0:00:03\n",
      "   -------------- ------------------------- 5.2/14.2 MB 3.7 MB/s eta 0:00:03\n",
      "   --------------- ------------------------ 5.5/14.2 MB 3.8 MB/s eta 0:00:03\n",
      "   ---------------- ----------------------- 5.7/14.2 MB 3.8 MB/s eta 0:00:03\n",
      "   ---------------- ----------------------- 6.0/14.2 MB 3.9 MB/s eta 0:00:03\n",
      "   ----------------- ---------------------- 6.2/14.2 MB 3.9 MB/s eta 0:00:03\n",
      "   ------------------ --------------------- 6.5/14.2 MB 4.0 MB/s eta 0:00:02\n",
      "   ------------------ --------------------- 6.7/14.2 MB 4.0 MB/s eta 0:00:02\n",
      "   ------------------- -------------------- 7.0/14.2 MB 4.1 MB/s eta 0:00:02\n",
      "   -------------------- ------------------- 7.3/14.2 MB 4.1 MB/s eta 0:00:02\n",
      "   --------------------- ------------------ 7.5/14.2 MB 4.2 MB/s eta 0:00:02\n",
      "   --------------------- ------------------ 7.8/14.2 MB 4.2 MB/s eta 0:00:02\n",
      "   ---------------------- ----------------- 8.1/14.2 MB 4.2 MB/s eta 0:00:02\n",
      "   ----------------------- ---------------- 8.4/14.2 MB 4.3 MB/s eta 0:00:02\n",
      "   ------------------------ --------------- 8.7/14.2 MB 4.3 MB/s eta 0:00:02\n",
      "   ------------------------- -------------- 8.9/14.2 MB 4.4 MB/s eta 0:00:02\n",
      "   ------------------------- -------------- 9.2/14.2 MB 4.4 MB/s eta 0:00:02\n",
      "   -------------------------- ------------- 9.5/14.2 MB 4.5 MB/s eta 0:00:02\n",
      "   --------------------------- ------------ 9.8/14.2 MB 4.5 MB/s eta 0:00:01\n",
      "   ---------------------------- ----------- 10.1/14.2 MB 4.5 MB/s eta 0:00:01\n",
      "   ----------------------------- ---------- 10.5/14.2 MB 4.7 MB/s eta 0:00:01\n",
      "   ------------------------------ --------- 10.8/14.2 MB 4.9 MB/s eta 0:00:01\n",
      "   ------------------------------- -------- 11.2/14.2 MB 5.1 MB/s eta 0:00:01\n",
      "   -------------------------------- ------- 11.5/14.2 MB 5.2 MB/s eta 0:00:01\n",
      "   --------------------------------- ------ 11.9/14.2 MB 5.4 MB/s eta 0:00:01\n",
      "   ---------------------------------- ----- 12.2/14.2 MB 5.5 MB/s eta 0:00:01\n",
      "   ----------------------------------- ---- 12.5/14.2 MB 5.6 MB/s eta 0:00:01\n",
      "   ------------------------------------ --- 12.9/14.2 MB 5.8 MB/s eta 0:00:01\n",
      "   ------------------------------------- -- 13.2/14.2 MB 6.0 MB/s eta 0:00:01\n",
      "   -------------------------------------- - 13.6/14.2 MB 6.1 MB/s eta 0:00:01\n",
      "   ---------------------------------------  13.9/14.2 MB 6.2 MB/s eta 0:00:01\n",
      "   ---------------------------------------  14.2/14.2 MB 6.2 MB/s eta 0:00:01\n",
      "   ---------------------------------------  14.2/14.2 MB 6.2 MB/s eta 0:00:01\n",
      "   ---------------------------------------- 14.2/14.2 MB 5.9 MB/s eta 0:00:00\n",
      "Installing collected packages: protobuf, mysql-connector-python, DBcm\n",
      "Successfully installed DBcm-2.1 mysql-connector-python-8.2.0 protobuf-4.21.12\n",
      "Note: you may need to restart the kernel to use updated packages.\n"
     ]
    }
   ],
   "source": [
    "%pip install DBcm --upgrade"
   ]
  },
  {
   "cell_type": "code",
   "execution_count": 2,
   "metadata": {},
   "outputs": [],
   "source": [
    "import DBcm"
   ]
  },
  {
   "cell_type": "code",
   "execution_count": 4,
   "metadata": {},
   "outputs": [],
   "source": [
    "db_details = \"CoachDB.sqlite3\""
   ]
  },
  {
   "cell_type": "code",
   "execution_count": 4,
   "metadata": {},
   "outputs": [],
   "source": [
    "with DBcm.UseDatabase(db_details) as db:\n",
    "    db.execute(\"pragma table_list\")\n",
    "    results = db.fetchall()"
   ]
  },
  {
   "cell_type": "code",
   "execution_count": 5,
   "metadata": {},
   "outputs": [
    {
     "data": {
      "text/plain": [
       "[('main', 'sqlite_schema', 'table', 5, 0, 0),\n",
       " ('temp', 'sqlite_temp_schema', 'table', 5, 0, 0)]"
      ]
     },
     "execution_count": 5,
     "metadata": {},
     "output_type": "execute_result"
    }
   ],
   "source": [
    "results"
   ]
  },
  {
   "cell_type": "code",
   "execution_count": 6,
   "metadata": {},
   "outputs": [
    {
     "data": {
      "text/plain": [
       "[('22:56:17',)]"
      ]
     },
     "execution_count": 6,
     "metadata": {},
     "output_type": "execute_result"
    }
   ],
   "source": [
    "SQL = \"\"\"\n",
    "select time()\n",
    "\"\"\"\n",
    "\n",
    "with DBcm.UseDatabase(db_details) as db:\n",
    "    db.execute(SQL)\n",
    "    results = db.fetchall()\n",
    "results"
   ]
  },
  {
   "cell_type": "code",
   "execution_count": 7,
   "metadata": {},
   "outputs": [
    {
     "data": {
      "text/plain": [
       "('22:57:02',)"
      ]
     },
     "execution_count": 7,
     "metadata": {},
     "output_type": "execute_result"
    }
   ],
   "source": [
    "SQL = \"\"\"\n",
    "select time()\n",
    "\"\"\"\n",
    "\n",
    "with DBcm.UseDatabase(db_details) as db:\n",
    "    db.execute(SQL)\n",
    "    results = db.fetchone()\n",
    "results"
   ]
  },
  {
   "cell_type": "code",
   "execution_count": 5,
   "metadata": {},
   "outputs": [
    {
     "data": {
      "text/plain": [
       "[('main', 'swimmers', 'table', 3, 0, 0),\n",
       " ('main', 'sqlite_sequence', 'table', 2, 0, 0),\n",
       " ('main', 'sqlite_schema', 'table', 5, 0, 0),\n",
       " ('temp', 'sqlite_temp_schema', 'table', 5, 0, 0)]"
      ]
     },
     "execution_count": 5,
     "metadata": {},
     "output_type": "execute_result"
    }
   ],
   "source": [
    "SQL = \"\"\"\n",
    "create table if not exists swimmers (\n",
    "id integer not null primary key autoincrement,\n",
    "name varchar(32) not null,\n",
    "age integer not null\n",
    ")\n",
    "\"\"\"\n",
    "\n",
    "with DBcm.UseDatabase(db_details) as db:\n",
    "    db.execute(SQL)\n",
    "    db.execute(\"pragma table_list\")\n",
    "    results = db.fetchall()\n",
    "\n",
    "results\n"
   ]
  },
  {
   "cell_type": "code",
   "execution_count": 6,
   "metadata": {},
   "outputs": [
    {
     "data": {
      "text/plain": [
       "False"
      ]
     },
     "execution_count": 6,
     "metadata": {},
     "output_type": "execute_result"
    }
   ],
   "source": [
    "\"swimmers\" in results"
   ]
  },
  {
   "cell_type": "code",
   "execution_count": 8,
   "metadata": {},
   "outputs": [
    {
     "name": "stdout",
     "output_type": "stream",
     "text": [
      "swimmers table 3\n"
     ]
    }
   ],
   "source": [
    "for r in results:\n",
    "    if 'swimmers' in r:\n",
    "        print(r[1], r[2], r[3])"
   ]
  },
  {
   "cell_type": "code",
   "execution_count": 10,
   "metadata": {},
   "outputs": [
    {
     "name": "stdout",
     "output_type": "stream",
     "text": [
      "[('main', 'times', 'table', 4, 0, 0), ('main', 'events', 'table', 3, 0, 0), ('main', 'sqlite_sequence', 'table', 2, 0, 0), ('main', 'swimmers', 'table', 3, 0, 0), ('main', 'sqlite_schema', 'table', 5, 0, 0), ('temp', 'sqlite_temp_schema', 'table', 5, 0, 0)]\n"
     ]
    }
   ],
   "source": [
    "SQL_1 = \"\"\" \n",
    "create table if not exists events (\n",
    "id integer not null primary key autoincrement,\n",
    "distance varchar(16) not null,\n",
    "stroke varchar(16) not null\n",
    ")\n",
    "\"\"\"\n",
    "SQL_2 = \"\"\" \n",
    "create table if not exists times (\n",
    "swimmer_id  integer not null,\n",
    "event_id integer not null,\n",
    "time varchar(16) not null, \n",
    "ts timestamp default current_timestamp\n",
    ")\n",
    "\"\"\"\n",
    "with DBcm.UseDatabase(db_details) as db:    \n",
    "    db.execute(SQL_1)\n",
    "    db.execute(SQL_2)\n",
    "\n",
    "with DBcm.UseDatabase(db_details) as db:\n",
    "    db.execute(\"pragma table_list\")\n",
    "    results = db.fetchall()\n",
    "\n",
    "print(results)"
   ]
  },
  {
   "cell_type": "code",
   "execution_count": null,
   "metadata": {},
   "outputs": [],
   "source": []
  }
 ],
 "metadata": {
  "kernelspec": {
   "display_name": "Python 3",
   "language": "python",
   "name": "python3"
  },
  "language_info": {
   "codemirror_mode": {
    "name": "ipython",
    "version": 3
   },
   "file_extension": ".py",
   "mimetype": "text/x-python",
   "name": "python",
   "nbconvert_exporter": "python",
   "pygments_lexer": "ipython3",
   "version": "3.12.0"
  }
 },
 "nbformat": 4,
 "nbformat_minor": 2
}
