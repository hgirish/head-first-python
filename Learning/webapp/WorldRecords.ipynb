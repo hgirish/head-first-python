{
 "cells": [
  {
   "cell_type": "code",
   "execution_count": 1,
   "metadata": {},
   "outputs": [
    {
     "name": "stdout",
     "output_type": "stream",
     "text": [
      "Collecting gazpachoNote: you may need to restart the kernel to use updated packages.\n",
      "\n",
      "  Downloading gazpacho-1.1.tar.gz (7.9 kB)\n",
      "  Installing build dependencies: started\n",
      "  Installing build dependencies: finished with status 'done'\n",
      "  Getting requirements to build wheel: started\n",
      "  Getting requirements to build wheel: finished with status 'done'\n",
      "  Preparing metadata (pyproject.toml): started\n",
      "  Preparing metadata (pyproject.toml): finished with status 'done'\n",
      "Building wheels for collected packages: gazpacho\n",
      "  Building wheel for gazpacho (pyproject.toml): started\n",
      "  Building wheel for gazpacho (pyproject.toml): finished with status 'done'\n",
      "  Created wheel for gazpacho: filename=gazpacho-1.1-py3-none-any.whl size=7488 sha256=793cb00df981af963cf48acf1160cfbe0f66bdf9925fa492dec64bc69d882381\n",
      "  Stored in directory: c:\\users\\girish\\appdata\\local\\pip\\cache\\wheels\\2b\\49\\33\\b889bdad7e58b8a514eb3a47869eadb9ef67bd59a534b5e24d\n",
      "Successfully built gazpacho\n",
      "Installing collected packages: gazpacho\n",
      "Successfully installed gazpacho-1.1\n"
     ]
    }
   ],
   "source": [
    "%pip install gazpacho --upgrade"
   ]
  },
  {
   "cell_type": "code",
   "execution_count": 2,
   "metadata": {},
   "outputs": [],
   "source": [
    "URL = \"https://en.wikipedia.org/wiki/List_of_world_records_in_swimming\""
   ]
  },
  {
   "cell_type": "code",
   "execution_count": 3,
   "metadata": {},
   "outputs": [],
   "source": [
    "import gazpacho"
   ]
  },
  {
   "cell_type": "code",
   "execution_count": 4,
   "metadata": {},
   "outputs": [],
   "source": [
    "html = gazpacho.get(URL)"
   ]
  },
  {
   "cell_type": "code",
   "execution_count": 5,
   "metadata": {},
   "outputs": [
    {
     "data": {
      "text/plain": [
       "552044"
      ]
     },
     "execution_count": 5,
     "metadata": {},
     "output_type": "execute_result"
    }
   ],
   "source": [
    "len(html)"
   ]
  },
  {
   "cell_type": "code",
   "execution_count": 6,
   "metadata": {},
   "outputs": [
    {
     "data": {
      "text/plain": [
       "'<!DOCTYPE html>\\n<html class=\"client-nojs vector-feature-language-in-header-enabled vector-feature-language-in-main-page-header-disabled vector-feature-sticky-header-disabled vector-feature-page-tools-pinned-disabled vector-feature-toc-pinned-clientpref-1 vector-feature-main-menu-pinned-disabled vector-feature-limited-width-clientpref-1 vector-feature-limited-width-content-enabled vector-feature-zebra-design-disabled vector-feature-custom-font-size-clientpref-0 vector-feature-client-preferences-d'"
      ]
     },
     "execution_count": 6,
     "metadata": {},
     "output_type": "execute_result"
    }
   ],
   "source": [
    "html[:500]"
   ]
  },
  {
   "cell_type": "code",
   "execution_count": 8,
   "metadata": {},
   "outputs": [
    {
     "data": {
      "text/plain": [
       "'anization\",\"name\":\"Contributors to Wikimedia projects\"},\"publisher\":{\"@type\":\"Organization\",\"name\":\"Wikimedia Foundation, Inc.\",\"logo\":{\"@type\":\"ImageObject\",\"url\":\"https:\\\\/\\\\/www.wikimedia.org\\\\/static\\\\/images\\\\/wmf-hor-googpub.png\"}},\"datePublished\":\"2007-03-15T21:20:10Z\",\"dateModified\":\"2023-11-01T22:20:08Z\",\"image\":\"https:\\\\/\\\\/upload.wikimedia.org\\\\/wikipedia\\\\/commons\\\\/a\\\\/ae\\\\/Caeleb_Dressel_before_winning_100_fly_%2842769914221%29.jpg\",\"headline\":\"Wikimedia list article\"}</script>\\n</body>\\n</html>'"
      ]
     },
     "execution_count": 8,
     "metadata": {},
     "output_type": "execute_result"
    }
   ],
   "source": [
    "html[-500:]"
   ]
  },
  {
   "cell_type": "code",
   "execution_count": 13,
   "metadata": {},
   "outputs": [],
   "source": [
    "start = html.find('<table')"
   ]
  },
  {
   "cell_type": "code",
   "execution_count": 14,
   "metadata": {},
   "outputs": [
    {
     "data": {
      "text/plain": [
       "'<table class=\"wikitable sortable\" style=\"font-size: 95%;\">\\n<tbody><tr>\\n<th>Event\\n</th>\\n<th style=\"width:4em\" class=\"unsortable\">Time\\n</th>\\n<th class=\"unsortable\">\\n</th>\\n<th>Name</th>\\n<th>Nationality</th>\\n<th>Date</th>\\n<th>Meet</th>\\n<th>Location\\n</th>\\n<th style=\"width:2em\" class=\"unsortable\">Ref\\n</th></tr>\\n\\n<tr>\\n<td><span data-sort-value=\"01 &#160;!\"> <a href=\"/wiki/World_record_progression_50_metres_freestyle\" title=\"World record progression 50 metres freestyle\">50m freestyle</a> </span>\\n</td>\\n<'"
      ]
     },
     "execution_count": 14,
     "metadata": {},
     "output_type": "execute_result"
    }
   ],
   "source": [
    "html[start:start+500]"
   ]
  },
  {
   "cell_type": "code",
   "execution_count": null,
   "metadata": {},
   "outputs": [],
   "source": []
  }
 ],
 "metadata": {
  "kernelspec": {
   "display_name": "Python 3",
   "language": "python",
   "name": "python3"
  },
  "language_info": {
   "codemirror_mode": {
    "name": "ipython",
    "version": 3
   },
   "file_extension": ".py",
   "mimetype": "text/x-python",
   "name": "python",
   "nbconvert_exporter": "python",
   "pygments_lexer": "ipython3",
   "version": "3.12.0"
  }
 },
 "nbformat": 4,
 "nbformat_minor": 2
}
