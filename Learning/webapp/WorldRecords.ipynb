{
 "cells": [
  {
   "cell_type": "code",
   "execution_count": 1,
   "metadata": {},
   "outputs": [
    {
     "name": "stdout",
     "output_type": "stream",
     "text": [
      "Collecting gazpachoNote: you may need to restart the kernel to use updated packages.\n",
      "\n",
      "  Downloading gazpacho-1.1.tar.gz (7.9 kB)\n",
      "  Installing build dependencies: started\n",
      "  Installing build dependencies: finished with status 'done'\n",
      "  Getting requirements to build wheel: started\n",
      "  Getting requirements to build wheel: finished with status 'done'\n",
      "  Preparing metadata (pyproject.toml): started\n",
      "  Preparing metadata (pyproject.toml): finished with status 'done'\n",
      "Building wheels for collected packages: gazpacho\n",
      "  Building wheel for gazpacho (pyproject.toml): started\n",
      "  Building wheel for gazpacho (pyproject.toml): finished with status 'done'\n",
      "  Created wheel for gazpacho: filename=gazpacho-1.1-py3-none-any.whl size=7488 sha256=793cb00df981af963cf48acf1160cfbe0f66bdf9925fa492dec64bc69d882381\n",
      "  Stored in directory: c:\\users\\girish\\appdata\\local\\pip\\cache\\wheels\\2b\\49\\33\\b889bdad7e58b8a514eb3a47869eadb9ef67bd59a534b5e24d\n",
      "Successfully built gazpacho\n",
      "Installing collected packages: gazpacho\n",
      "Successfully installed gazpacho-1.1\n"
     ]
    }
   ],
   "source": [
    "%pip install gazpacho --upgrade"
   ]
  },
  {
   "cell_type": "code",
   "execution_count": 4,
   "metadata": {},
   "outputs": [],
   "source": [
    "URL = \"https://en.wikipedia.org/wiki/List_of_world_records_in_swimming\""
   ]
  },
  {
   "cell_type": "code",
   "execution_count": 5,
   "metadata": {},
   "outputs": [],
   "source": [
    "import gazpacho"
   ]
  },
  {
   "cell_type": "code",
   "execution_count": 6,
   "metadata": {},
   "outputs": [],
   "source": [
    "html = gazpacho.get(URL)"
   ]
  },
  {
   "cell_type": "code",
   "execution_count": 5,
   "metadata": {},
   "outputs": [
    {
     "data": {
      "text/plain": [
       "552044"
      ]
     },
     "execution_count": 5,
     "metadata": {},
     "output_type": "execute_result"
    }
   ],
   "source": [
    "len(html)"
   ]
  },
  {
   "cell_type": "code",
   "execution_count": 6,
   "metadata": {},
   "outputs": [
    {
     "data": {
      "text/plain": [
       "'<!DOCTYPE html>\\n<html class=\"client-nojs vector-feature-language-in-header-enabled vector-feature-language-in-main-page-header-disabled vector-feature-sticky-header-disabled vector-feature-page-tools-pinned-disabled vector-feature-toc-pinned-clientpref-1 vector-feature-main-menu-pinned-disabled vector-feature-limited-width-clientpref-1 vector-feature-limited-width-content-enabled vector-feature-zebra-design-disabled vector-feature-custom-font-size-clientpref-0 vector-feature-client-preferences-d'"
      ]
     },
     "execution_count": 6,
     "metadata": {},
     "output_type": "execute_result"
    }
   ],
   "source": [
    "html[:500]"
   ]
  },
  {
   "cell_type": "code",
   "execution_count": 8,
   "metadata": {},
   "outputs": [
    {
     "data": {
      "text/plain": [
       "'anization\",\"name\":\"Contributors to Wikimedia projects\"},\"publisher\":{\"@type\":\"Organization\",\"name\":\"Wikimedia Foundation, Inc.\",\"logo\":{\"@type\":\"ImageObject\",\"url\":\"https:\\\\/\\\\/www.wikimedia.org\\\\/static\\\\/images\\\\/wmf-hor-googpub.png\"}},\"datePublished\":\"2007-03-15T21:20:10Z\",\"dateModified\":\"2023-11-01T22:20:08Z\",\"image\":\"https:\\\\/\\\\/upload.wikimedia.org\\\\/wikipedia\\\\/commons\\\\/a\\\\/ae\\\\/Caeleb_Dressel_before_winning_100_fly_%2842769914221%29.jpg\",\"headline\":\"Wikimedia list article\"}</script>\\n</body>\\n</html>'"
      ]
     },
     "execution_count": 8,
     "metadata": {},
     "output_type": "execute_result"
    }
   ],
   "source": [
    "html[-500:]"
   ]
  },
  {
   "cell_type": "code",
   "execution_count": 13,
   "metadata": {},
   "outputs": [],
   "source": [
    "start = html.find('<table')"
   ]
  },
  {
   "cell_type": "code",
   "execution_count": 14,
   "metadata": {},
   "outputs": [
    {
     "data": {
      "text/plain": [
       "'<table class=\"wikitable sortable\" style=\"font-size: 95%;\">\\n<tbody><tr>\\n<th>Event\\n</th>\\n<th style=\"width:4em\" class=\"unsortable\">Time\\n</th>\\n<th class=\"unsortable\">\\n</th>\\n<th>Name</th>\\n<th>Nationality</th>\\n<th>Date</th>\\n<th>Meet</th>\\n<th>Location\\n</th>\\n<th style=\"width:2em\" class=\"unsortable\">Ref\\n</th></tr>\\n\\n<tr>\\n<td><span data-sort-value=\"01 &#160;!\"> <a href=\"/wiki/World_record_progression_50_metres_freestyle\" title=\"World record progression 50 metres freestyle\">50m freestyle</a> </span>\\n</td>\\n<'"
      ]
     },
     "execution_count": 14,
     "metadata": {},
     "output_type": "execute_result"
    }
   ],
   "source": [
    "html[start:start+500]"
   ]
  },
  {
   "cell_type": "code",
   "execution_count": 7,
   "metadata": {},
   "outputs": [],
   "source": [
    "soup = gazpacho.Soup(html)"
   ]
  },
  {
   "cell_type": "code",
   "execution_count": 8,
   "metadata": {},
   "outputs": [
    {
     "data": {
      "text/plain": [
       "gazpacho.soup.Soup"
      ]
     },
     "execution_count": 8,
     "metadata": {},
     "output_type": "execute_result"
    }
   ],
   "source": [
    "type(soup)"
   ]
  },
  {
   "cell_type": "code",
   "execution_count": 9,
   "metadata": {},
   "outputs": [
    {
     "name": "stdout",
     "output_type": "stream",
     "text": [
      "['attrs', 'find', 'get', 'html', 'strip', 'tag', 'text']\n"
     ]
    }
   ],
   "source": [
    "print(dir(soup))"
   ]
  },
  {
   "cell_type": "code",
   "execution_count": 10,
   "metadata": {},
   "outputs": [],
   "source": [
    "tables = soup.find(\"table\")"
   ]
  },
  {
   "cell_type": "code",
   "execution_count": 11,
   "metadata": {},
   "outputs": [
    {
     "data": {
      "text/plain": [
       "list"
      ]
     },
     "execution_count": 11,
     "metadata": {},
     "output_type": "execute_result"
    }
   ],
   "source": [
    "type(tables)"
   ]
  },
  {
   "cell_type": "code",
   "execution_count": 12,
   "metadata": {},
   "outputs": [
    {
     "data": {
      "text/plain": [
       "12"
      ]
     },
     "execution_count": 12,
     "metadata": {},
     "output_type": "execute_result"
    }
   ],
   "source": [
    "len(tables)"
   ]
  },
  {
   "cell_type": "code",
   "execution_count": 13,
   "metadata": {},
   "outputs": [
    {
     "data": {
      "text/plain": [
       "gazpacho.soup.Soup"
      ]
     },
     "execution_count": 13,
     "metadata": {},
     "output_type": "execute_result"
    }
   ],
   "source": [
    "type(tables[0])"
   ]
  },
  {
   "cell_type": "code",
   "execution_count": 15,
   "metadata": {},
   "outputs": [
    {
     "data": {
      "text/plain": [
       "gazpacho.soup.Soup"
      ]
     },
     "execution_count": 15,
     "metadata": {},
     "output_type": "execute_result"
    }
   ],
   "source": [
    "type(tables[-1])"
   ]
  },
  {
   "cell_type": "code",
   "execution_count": 16,
   "metadata": {},
   "outputs": [],
   "source": [
    "rows = tables[0].find(\"tr\", mode=\"all\")"
   ]
  },
  {
   "cell_type": "code",
   "execution_count": 17,
   "metadata": {},
   "outputs": [
    {
     "data": {
      "text/plain": [
       "22"
      ]
     },
     "execution_count": 17,
     "metadata": {},
     "output_type": "execute_result"
    }
   ],
   "source": [
    "len(rows)"
   ]
  },
  {
   "cell_type": "code",
   "execution_count": 19,
   "metadata": {},
   "outputs": [
    {
     "data": {
      "text/plain": [
       "gazpacho.soup.Soup"
      ]
     },
     "execution_count": 19,
     "metadata": {},
     "output_type": "execute_result"
    }
   ],
   "source": [
    "type(rows[0])"
   ]
  },
  {
   "cell_type": "code",
   "execution_count": 34,
   "metadata": {},
   "outputs": [
    {
     "name": "stdout",
     "output_type": "stream",
     "text": [
      "['__class__', '__class_getitem__', '__contains__', '__delattr__', '__delitem__', '__dir__', '__doc__', '__eq__', '__format__', '__ge__', '__getattribute__', '__getitem__', '__getstate__', '__gt__', '__hash__', '__init__', '__init_subclass__', '__ior__', '__iter__', '__le__', '__len__', '__lt__', '__ne__', '__new__', '__or__', '__reduce__', '__reduce_ex__', '__repr__', '__reversed__', '__ror__', '__setattr__', '__setitem__', '__sizeof__', '__str__', '__subclasshook__', 'clear', 'copy', 'fromkeys', 'get', 'items', 'keys', 'pop', 'popitem', 'setdefault', 'update', 'values']\n"
     ]
    }
   ],
   "source": [
    "print(dir({}))"
   ]
  },
  {
   "cell_type": "code",
   "execution_count": 23,
   "metadata": {},
   "outputs": [
    {
     "name": "stdout",
     "output_type": "stream",
     "text": [
      "Table 1 -> 22 rows and 9 columns\n",
      "Table 2 -> 1 rows and 2 columns\n",
      "Table 3 -> 21 rows and 9 columns\n",
      "Table 4 -> 3 rows and 9 columns\n",
      "Table 5 -> 27 rows and 9 columns\n",
      "Table 6 -> 26 rows and 9 columns\n",
      "Table 7 -> 3 rows and 9 columns\n",
      "Table 8 -> 25 rows and 11 columns\n",
      "Table 9 -> 1 rows and 2 columns\n",
      "Table 10 -> 7 rows and 1 columns\n",
      "Table 11 -> 5 rows and 1 columns\n",
      "Table 12 -> 8 rows and 1 columns\n"
     ]
    }
   ],
   "source": [
    "for n, table in enumerate(tables,1):\n",
    "    rows = table.find(\"tr\", mode=\"all\")\n",
    "    columns = rows[-1].find(\"td\", mode=\"all\")\n",
    "    print(f\"Table {n} -> {len(rows)} rows and {len(columns)} columns\")"
   ]
  },
  {
   "cell_type": "code",
   "execution_count": 24,
   "metadata": {},
   "outputs": [],
   "source": [
    "table = tables[0]"
   ]
  },
  {
   "cell_type": "code",
   "execution_count": 25,
   "metadata": {},
   "outputs": [],
   "source": [
    "rows = table.find(\"tr\", mode=\"all\")"
   ]
  },
  {
   "cell_type": "code",
   "execution_count": 27,
   "metadata": {},
   "outputs": [
    {
     "name": "stdout",
     "output_type": "stream",
     "text": [
      "Event: 50m freestyle, time: 20.91\n",
      "Event: 100m freestyle, time: 46.86\n",
      "Event: 200m freestyle, time: 1:42.00\n",
      "Event: 400m freestyle, time: 3:40.07\n",
      "Event: 800m freestyle, time: 7:32.12\n",
      "Event: 1500m freestyle, time: 14:31.02\n",
      "Event: 50m backstroke, time: 23.71\n",
      "Event: 50m backstroke, time: 23.55\n",
      "Event: 100m backstroke, time: 51.60\n",
      "Event: 200m backstroke, time: 1:51.92\n",
      "Event: 50m breaststroke, time: 25.95\n",
      "Event: 100m breaststroke, time: 56.88\n",
      "Event: 200m breaststroke, time: 2:05.48\n",
      "Event: 50m butterfly, time: 22.27\n",
      "Event: 100m butterfly, time: 49.45\n",
      "Event: 200m butterfly, time: 1:50.34\n",
      "Event: 200m individual medley, time: 1:54.00\n",
      "Event: 400m individual medley, time: 4:02.50\n",
      "Event: 4 × 100 m freestyle relay, time: 3:08.24\n",
      "Event: 4 × 200 m freestyle relay, time: 6:58.55\n",
      "Event: 4 × 100 m medley relay, time: 3:26.78\n"
     ]
    }
   ],
   "source": [
    "for row in rows[1:]:\n",
    "    columns = row.find(\"td\", mode=\"all\")\n",
    "    event = columns[0].text\n",
    "    time = columns[1].text\n",
    "    print(f\"Event: {event}, time: {time}\")\n",
    "\n"
   ]
  },
  {
   "cell_type": "code",
   "execution_count": 29,
   "metadata": {},
   "outputs": [
    {
     "name": "stdout",
     "output_type": "stream",
     "text": [
      "50m freestyle => 20.91\n",
      "100m freestyle => 46.86\n",
      "200m freestyle => 1:42.00\n",
      "400m freestyle => 3:40.07\n",
      "800m freestyle => 7:32.12\n",
      "1500m freestyle => 14:31.02\n",
      "50m backstroke => 23.71\n",
      "50m backstroke => 23.55\n",
      "100m backstroke => 51.60\n",
      "200m backstroke => 1:51.92\n",
      "50m breaststroke => 25.95\n",
      "100m breaststroke => 56.88\n",
      "200m breaststroke => 2:05.48\n",
      "50m butterfly => 22.27\n",
      "100m butterfly => 49.45\n",
      "200m butterfly => 1:50.34\n",
      "200m individual medley => 1:54.00\n",
      "400m individual medley => 4:02.50\n",
      "4 × 100 m freestyle relay => 3:08.24\n",
      "4 × 200 m freestyle relay => 6:58.55\n",
      "4 × 100 m medley relay => 3:26.78\n"
     ]
    }
   ],
   "source": [
    "table = tables[0]\n",
    "for row in table.find(\"tr\", mode=\"all\")[1:]:\n",
    "    columns = row.find(\"td\", mode=\"all\")\n",
    "    event = columns[0].text\n",
    "    time = columns[1].text\n",
    "    print(f\"{event} => {time}\")"
   ]
  },
  {
   "cell_type": "code",
   "execution_count": 30,
   "metadata": {},
   "outputs": [],
   "source": [
    "RECORDS =  (0, 2, 4, 5)\n",
    "COURSES = (\"LC Men\", \"LC Women\", \"SC Men\", \"SC Women\")"
   ]
  },
  {
   "cell_type": "code",
   "execution_count": 31,
   "metadata": {},
   "outputs": [
    {
     "data": {
      "text/plain": [
       "[(0, 'LC Men'), (2, 'LC Women'), (4, 'SC Men'), (5, 'SC Women')]"
      ]
     },
     "execution_count": 31,
     "metadata": {},
     "output_type": "execute_result"
    }
   ],
   "source": [
    "list(zip(RECORDS, COURSES))"
   ]
  },
  {
   "cell_type": "code",
   "execution_count": 32,
   "metadata": {},
   "outputs": [
    {
     "name": "stdout",
     "output_type": "stream",
     "text": [
      "0 LC Men\n",
      "2 LC Women\n",
      "4 SC Men\n",
      "5 SC Women\n"
     ]
    }
   ],
   "source": [
    "for table, course in zip(RECORDS, COURSES):\n",
    "    print(table, course)"
   ]
  },
  {
   "cell_type": "code",
   "execution_count": 33,
   "metadata": {},
   "outputs": [
    {
     "name": "stdout",
     "output_type": "stream",
     "text": [
      "LC Men:\n",
      "\t50m freestyle -> 20.91\n",
      "\t100m freestyle -> 46.86\n",
      "\t200m freestyle -> 1:42.00\n",
      "\t400m freestyle -> 3:40.07\n",
      "\t800m freestyle -> 7:32.12\n",
      "\t1500m freestyle -> 14:31.02\n",
      "\t50m backstroke -> 23.71\n",
      "\t50m backstroke -> 23.55\n",
      "\t100m backstroke -> 51.60\n",
      "\t200m backstroke -> 1:51.92\n",
      "\t50m breaststroke -> 25.95\n",
      "\t100m breaststroke -> 56.88\n",
      "\t200m breaststroke -> 2:05.48\n",
      "\t50m butterfly -> 22.27\n",
      "\t100m butterfly -> 49.45\n",
      "\t200m butterfly -> 1:50.34\n",
      "\t200m individual medley -> 1:54.00\n",
      "\t400m individual medley -> 4:02.50\n",
      "\t4 × 100 m freestyle relay -> 3:08.24\n",
      "\t4 × 200 m freestyle relay -> 6:58.55\n",
      "\t4 × 100 m medley relay -> 3:26.78\n",
      "\n",
      "LC Women:\n",
      "\t50m freestyle -> 23.61\n",
      "\t100m freestyle -> 51.71\n",
      "\t200m freestyle -> 1:52.85\n",
      "\t400m freestyle -> 3:55.38\n",
      "\t800m freestyle -> 8:04.79\n",
      "\t1500m freestyle -> 15:20.48\n",
      "\t50m backstroke -> 26.86\n",
      "\t100m backstroke -> 57.33\n",
      "\t200m backstroke -> 2:03.14\n",
      "\t50m breaststroke -> 29.16\n",
      "\t100m breaststroke -> 1:04.13\n",
      "\t200m breaststroke -> 2:17.55\n",
      "\t50m butterfly -> 24.43\n",
      "\t100m butterfly -> 55.48\n",
      "\t200m butterfly -> 2:01.81\n",
      "\t200m individual medley -> 2:06.12\n",
      "\t400m individual medley -> 4:25.87\n",
      "\t4 × 100 m freestyle relay -> 3:27.96\n",
      "\t4 × 200 m freestyle relay -> 7:37.50\n",
      "\t4 × 100 m medley relay -> 3:50.40\n",
      "\n",
      "SC Men:\n",
      "\t50m freestyle -> 20.16\n",
      "\t100m freestyle -> 44.84\n",
      "\t200m freestyle -> 1:39.37\n",
      "\t400m freestyle -> 3:32.25\n",
      "\t800m freestyle -> 7:23.42\n",
      "\t1500m freestyle -> 14:06.88\n",
      "\t50m backstroke -> 22.11\n",
      "\t100m backstroke -> 48.33\n",
      "\t200m backstroke -> 1:45.63\n",
      "\t50m breaststroke -> 24.95\n",
      "\t100m breaststroke -> 55.28\n",
      "\t200m breaststroke -> 2:00.16\n",
      "\t50m butterfly -> 21.75\n",
      "\t50m butterfly -> 21.75\n",
      "\t100m butterfly -> 47.78\n",
      "\t200m butterfly -> 1:46.85\n",
      "\t100m individual medley -> 49.28\n",
      "\t200m individual medley -> 1:49.63\n",
      "\t400m individual medley -> 3:54.81\n",
      "\t4 × 50 m freestyle relay -> 1:21.80\n",
      "\t4 × 50 m freestyle relay -> 1:20.77\n",
      "\t4 × 100 m freestyle relay -> 3:02.75\n",
      "\t4 × 200 m freestyle relay -> 6:44.12\n",
      "\t4 × 50 m medley relay -> 1:29.72\n",
      "\t4 × 100 m medley relay -> 3:18.98\n",
      "\t4 × 100 m medley relay -> 3:18.98\n",
      "\n",
      "SC Women:\n",
      "\t50m freestyle -> 22.93\n",
      "\t100m freestyle -> 50.25\n",
      "\t200m freestyle -> 1:50.31\n",
      "\t400m freestyle -> 3:51.30\n",
      "\t800m freestyle -> 7:57.42\n",
      "\t1500m freestyle -> 15:08.24\n",
      "\t50m backstroke -> 25.25\n",
      "\t100m backstroke -> 54.89\n",
      "\t200m backstroke -> 1:58.94\n",
      "\t50m breaststroke -> 28.37\n",
      "\t100m breaststroke -> 1:02.36\n",
      "\t100m breaststroke -> 1:02.36\n",
      "\t100m breaststroke -> 1:02.36\n",
      "\t200m breaststroke -> 2:14.57\n",
      "\t50m butterfly -> 24.38\n",
      "\t100m butterfly -> 54.05\n",
      "\t200m butterfly -> 1:59.61\n",
      "\t100m individual medley -> 56.51\n",
      "\t200m individual medley -> 2:01.86\n",
      "\t400m individual medley -> 4:18.94\n",
      "\t4 × 50 m freestyle relay -> 1:32.50\n",
      "\t4 × 100 m freestyle relay -> 3:25.43\n",
      "\t4 × 200 m freestyle relay -> 7:30.87\n",
      "\t4 × 50 m medley relay -> 1:42.35\n",
      "\t4 × 100 m medley relay -> 3:44.35\n",
      "\n"
     ]
    }
   ],
   "source": [
    "RECORDS =  (0, 2, 4, 5)\n",
    "COURSES = (\"LC Men\", \"LC Women\", \"SC Men\", \"SC Women\")\n",
    "\n",
    "for table, course in zip(RECORDS, COURSES):\n",
    "    print(f\"{course}:\")\n",
    "    for row in tables[table].find(\"tr\", mode=\"all\")[1:]:\n",
    "        columns = row.find(\"td\", mode=\"all\")\n",
    "        event = columns[0].text\n",
    "        time = columns[1].text\n",
    "        print(f\"\\t{event} -> {time}\")\n",
    "    print()\n"
   ]
  },
  {
   "cell_type": "code",
   "execution_count": 37,
   "metadata": {},
   "outputs": [],
   "source": [
    "RECORDS =  (0, 2, 4, 5)\n",
    "COURSES = (\"LC Men\", \"LC Women\", \"SC Men\", \"SC Women\")\n",
    "records = {}\n",
    "\n",
    "for table, course in zip(RECORDS, COURSES):\n",
    "    if course not in records:\n",
    "        records[course] = {}\n",
    "    for row in tables[table].find(\"tr\", mode=\"all\")[1:]:\n",
    "        columns = row.find(\"td\", mode=\"all\")\n",
    "        event = columns[0].text\n",
    "        time = columns[1].text     \n",
    "        records[course][event]= time\n",
    "        "
   ]
  },
  {
   "cell_type": "code",
   "execution_count": 39,
   "metadata": {},
   "outputs": [
    {
     "data": {
      "text/plain": [
       "20"
      ]
     },
     "execution_count": 39,
     "metadata": {},
     "output_type": "execute_result"
    }
   ],
   "source": [
    "len(records[\"LC Men\"])"
   ]
  },
  {
   "cell_type": "code",
   "execution_count": 40,
   "metadata": {},
   "outputs": [
    {
     "data": {
      "text/plain": [
       "dict_keys(['LC Men', 'LC Women', 'SC Men', 'SC Women'])"
      ]
     },
     "execution_count": 40,
     "metadata": {},
     "output_type": "execute_result"
    }
   ],
   "source": [
    "records.keys()"
   ]
  },
  {
   "cell_type": "code",
   "execution_count": 41,
   "metadata": {},
   "outputs": [
    {
     "data": {
      "text/plain": [
       "'54.89'"
      ]
     },
     "execution_count": 41,
     "metadata": {},
     "output_type": "execute_result"
    }
   ],
   "source": [
    "records[\"SC Women\"][\"100m backstroke\"]"
   ]
  },
  {
   "cell_type": "code",
   "execution_count": 42,
   "metadata": {},
   "outputs": [
    {
     "data": {
      "text/plain": [
       "'20.91'"
      ]
     },
     "execution_count": 42,
     "metadata": {},
     "output_type": "execute_result"
    }
   ],
   "source": [
    "records[\"LC Men\"][\"50m freestyle\"]"
   ]
  },
  {
   "cell_type": "code",
   "execution_count": 43,
   "metadata": {},
   "outputs": [],
   "source": [
    "conversions = {\n",
    "    \"Free\": \"freestyle\",\n",
    "    \"Back\":\"backstroke\",\n",
    "    \"Breast\": \"breaststoke\",\n",
    "    \"Fly\": \"butterfly\",\n",
    "    \"IM\": \"individual medly\",\n",
    "}"
   ]
  },
  {
   "cell_type": "code",
   "execution_count": 47,
   "metadata": {},
   "outputs": [
    {
     "name": "stdout",
     "output_type": "stream",
     "text": [
      "49.45\n",
      "55.48\n",
      "47.78\n",
      "54.05\n"
     ]
    }
   ],
   "source": [
    "for course in records.keys():\n",
    "    print(f\"{records[course][\"100m butterfly\"]}\")\n",
    "    "
   ]
  },
  {
   "cell_type": "code",
   "execution_count": 48,
   "metadata": {},
   "outputs": [
    {
     "name": "stdout",
     "output_type": "stream",
     "text": [
      "100m butterfly\n"
     ]
    }
   ],
   "source": [
    "event = \"Mike-15-100m-Fly.txt\"\n",
    "*_, distance, stroke = event.removesuffix(\".txt\").split(\"-\")\n",
    "lookup = f\"{distance} {conversions[stroke]}\"\n",
    "print(lookup)"
   ]
  },
  {
   "cell_type": "code",
   "execution_count": 49,
   "metadata": {},
   "outputs": [
    {
     "name": "stdout",
     "output_type": "stream",
     "text": [
      "49.45\n",
      "55.48\n",
      "47.78\n",
      "54.05\n"
     ]
    }
   ],
   "source": [
    "for course in records.keys():\n",
    "    print(f\"{records[course][lookup]}\")"
   ]
  },
  {
   "cell_type": "code",
   "execution_count": 50,
   "metadata": {},
   "outputs": [],
   "source": [
    "records = {}\n",
    "for table, course in zip(RECORDS, COURSES):\n",
    "    records[course] = {}\n",
    "    for row in tables[table].find(\"tr\", mode=\"all\")[1:]:\n",
    "        columns = row.find(\"td\", mode=\"all\")\n",
    "        event = columns[0].text\n",
    "        time = columns[1].text\n",
    "        if \"relay\" not in event:\n",
    "            records[course][event] = time"
   ]
  },
  {
   "cell_type": "code",
   "execution_count": 51,
   "metadata": {},
   "outputs": [
    {
     "data": {
      "text/plain": [
       "{'50m freestyle': '20.91',\n",
       " '100m freestyle': '46.86',\n",
       " '200m freestyle': '1:42.00',\n",
       " '400m freestyle': '3:40.07',\n",
       " '800m freestyle': '7:32.12',\n",
       " '1500m freestyle': '14:31.02',\n",
       " '50m backstroke': '23.55',\n",
       " '100m backstroke': '51.60',\n",
       " '200m backstroke': '1:51.92',\n",
       " '50m breaststroke': '25.95',\n",
       " '100m breaststroke': '56.88',\n",
       " '200m breaststroke': '2:05.48',\n",
       " '50m butterfly': '22.27',\n",
       " '100m butterfly': '49.45',\n",
       " '200m butterfly': '1:50.34',\n",
       " '200m individual medley': '1:54.00',\n",
       " '400m individual medley': '4:02.50'}"
      ]
     },
     "execution_count": 51,
     "metadata": {},
     "output_type": "execute_result"
    }
   ],
   "source": [
    "records[\"LC Men\"]"
   ]
  },
  {
   "cell_type": "code",
   "execution_count": 52,
   "metadata": {},
   "outputs": [],
   "source": [
    "import json"
   ]
  },
  {
   "cell_type": "code",
   "execution_count": 53,
   "metadata": {},
   "outputs": [],
   "source": [
    "with open(\"records.json\", \"w\") as jf:\n",
    "    json.dump(records, jf)"
   ]
  },
  {
   "cell_type": "code",
   "execution_count": 54,
   "metadata": {},
   "outputs": [
    {
     "name": "stdout",
     "output_type": "stream",
     "text": [
      "100m individual medly\n"
     ]
    }
   ],
   "source": [
    "filename = \"Darius-13-100m-IM.txt\"\n",
    "*_, distance,stroke = filename.removesuffix(\".txt\").split(\"-\")\n",
    "print(f\"{distance} {conversions[stroke]}\")"
   ]
  },
  {
   "cell_type": "code",
   "execution_count": 57,
   "metadata": {},
   "outputs": [],
   "source": [
    "def event_lookup(filename):\n",
    "    conversions = {\n",
    "    \"Free\": \"freestyle\",\n",
    "    \"Back\":\"backstroke\",\n",
    "    \"Breast\": \"breaststoke\",\n",
    "    \"Fly\": \"butterfly\",\n",
    "    \"IM\": \"individual medly\",\n",
    "}\n",
    "    *_, distance,stroke = filename.removesuffix(\".txt\").split(\"-\")\n",
    "    return f\"{distance} {conversions[stroke]}\""
   ]
  },
  {
   "cell_type": "code",
   "execution_count": 59,
   "metadata": {},
   "outputs": [
    {
     "data": {
      "text/plain": [
       "'100m butterfly'"
      ]
     },
     "execution_count": 59,
     "metadata": {},
     "output_type": "execute_result"
    }
   ],
   "source": [
    "event_lookup(\"Darius-13-100m-Fly.txt\")"
   ]
  },
  {
   "cell_type": "code",
   "execution_count": 60,
   "metadata": {},
   "outputs": [
    {
     "data": {
      "text/plain": [
       "'100m backstroke'"
      ]
     },
     "execution_count": 60,
     "metadata": {},
     "output_type": "execute_result"
    }
   ],
   "source": [
    "event_lookup(\"Darius-13-100m-Back.txt\")"
   ]
  },
  {
   "cell_type": "code",
   "execution_count": 61,
   "metadata": {},
   "outputs": [
    {
     "data": {
      "text/plain": [
       "'100m breaststoke'"
      ]
     },
     "execution_count": 61,
     "metadata": {},
     "output_type": "execute_result"
    }
   ],
   "source": [
    "event_lookup(\"Darius-13-100m-Breast.txt\")"
   ]
  },
  {
   "cell_type": "code",
   "execution_count": 62,
   "metadata": {},
   "outputs": [],
   "source": [
    "import json"
   ]
  },
  {
   "cell_type": "code",
   "execution_count": 63,
   "metadata": {},
   "outputs": [],
   "source": [
    "with open(\"records.json\") as jf:\n",
    "    records = json.load(jf)"
   ]
  },
  {
   "cell_type": "code",
   "execution_count": 64,
   "metadata": {},
   "outputs": [
    {
     "data": {
      "text/plain": [
       "'49.45'"
      ]
     },
     "execution_count": 64,
     "metadata": {},
     "output_type": "execute_result"
    }
   ],
   "source": [
    "records[\"LC Men\"][event_lookup(\"Darius-13-100m-Fly.txt\")]"
   ]
  },
  {
   "cell_type": "code",
   "execution_count": 65,
   "metadata": {},
   "outputs": [],
   "source": [
    "COURSES = (\"LC Men\", \"LC Women\", \"SC Men\", \"SC Women\")"
   ]
  },
  {
   "cell_type": "code",
   "execution_count": 66,
   "metadata": {},
   "outputs": [
    {
     "name": "stdout",
     "output_type": "stream",
     "text": [
      "49.45\n",
      "55.48\n",
      "47.78\n",
      "54.05\n"
     ]
    }
   ],
   "source": [
    "for course in COURSES:\n",
    "    print(records[course][event_lookup(\"Darius-13-100m-Fly.txt\")])"
   ]
  },
  {
   "cell_type": "code",
   "execution_count": 68,
   "metadata": {},
   "outputs": [],
   "source": [
    "fn = \"Darius-13-100m-Fly.txt\"\n",
    "times = []\n",
    "for course in COURSES:\n",
    "    times.append(records[course][event_lookup(fn)])"
   ]
  },
  {
   "cell_type": "code",
   "execution_count": 69,
   "metadata": {},
   "outputs": [
    {
     "data": {
      "text/plain": [
       "['49.45', '55.48', '47.78', '54.05']"
      ]
     },
     "execution_count": 69,
     "metadata": {},
     "output_type": "execute_result"
    }
   ],
   "source": [
    "times"
   ]
  },
  {
   "cell_type": "code",
   "execution_count": null,
   "metadata": {},
   "outputs": [],
   "source": []
  }
 ],
 "metadata": {
  "kernelspec": {
   "display_name": "Python 3",
   "language": "python",
   "name": "python3"
  },
  "language_info": {
   "codemirror_mode": {
    "name": "ipython",
    "version": 3
   },
   "file_extension": ".py",
   "mimetype": "text/x-python",
   "name": "python",
   "nbconvert_exporter": "python",
   "pygments_lexer": "ipython3",
   "version": "3.12.0"
  }
 },
 "nbformat": 4,
 "nbformat_minor": 2
}
